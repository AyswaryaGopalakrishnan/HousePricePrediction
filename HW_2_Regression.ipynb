{
 "cells": [
  {
   "cell_type": "markdown",
   "metadata": {
    "colab_type": "text",
    "id": "TNZDl07GRn1_"
   },
   "source": [
    "# Results\n",
    "- Models used with hyperparameters \n",
    "- Best Model parameters \n",
    "- Mean Cross validation score of Best model\n",
    "- Test score of best model \n",
    "- Train score of best model "
   ]
  },
  {
   "cell_type": "markdown",
   "metadata": {},
   "source": [
    " Out of all the models,Stacking Regressor with XG Boost,Support Vector Machines,Bagging with Lassoand ridge works best with this dataset.\n",
    "\n",
    "    The best model parameter:\n",
    "         {'final_estimator__max_depth': 5, 'final_estimator__n_estimators': 500}\n",
    "\n",
    "    Best Mean Cross-validation score: 0.8984\n",
    "\n",
    "    Train Performance Score:  0.9482\n",
    "\n",
    "    Test Performance Score:  0.9026\n",
    "    \n",
    "    train rmse: 17972.220648045088\n",
    "    \n",
    "    test rmse: 25870.852417706807\n",
    "\n",
    "\n",
    "\n",
    "\n",
    "\n",
    "XG boost also gives good cross validation score  and is a much simpler model\n",
    "\n",
    "    Best Mean Cross-validation score: 0.8981\n",
    "\n",
    "    Best Mean Cross Validation parameters is {'learning_rate': 0.1, 'max_depth': 4, 'min_child_weight': 1, 'n_estimators': 150, 'subsample': 0.8}\n",
    "\n",
    "    Train Performance Score:  0.9793\n",
    "\n",
    "    Test Performance Score:  0.8776\n",
    "\n",
    "    train rmse: 11342.06426560124\n",
    "\n",
    "    test rmse: 29001.96379032366\n"
   ]
  },
  {
   "cell_type": "markdown",
   "metadata": {
    "colab_type": "text",
    "id": "AgtvnoJVRn2V"
   },
   "source": [
    "## Data PreProcessing"
   ]
  },
  {
   "cell_type": "code",
   "execution_count": 1,
   "metadata": {
    "ExecuteTime": {
     "end_time": "2020-03-09T07:32:49.555666Z",
     "start_time": "2020-03-09T07:32:49.545638Z"
    },
    "colab": {},
    "colab_type": "code",
    "id": "t6JdF5HqRn2f"
   },
   "outputs": [],
   "source": [
    "from math import sqrt\n",
    "import pandas as pd\n",
    "import numpy as np\n",
    "import matplotlib.pyplot as plt\n",
    "import seaborn as sns\n",
    "import scipy.stats as stats\n",
    "\n",
    "pd.pandas.set_option('display.max_columns', None)\n",
    "%matplotlib inline"
   ]
  },
  {
   "cell_type": "markdown",
   "metadata": {
    "colab_type": "text",
    "id": "rV3uUoMiRn29"
   },
   "source": [
    "### Load Datasets"
   ]
  },
  {
   "cell_type": "code",
   "execution_count": 2,
   "metadata": {
    "colab": {
     "base_uri": "https://localhost:8080/",
     "height": 35
    },
    "colab_type": "code",
    "id": "4RblyrawR0En",
    "outputId": "db075d74-aad5-4bac-a79d-f3d0957aaf8e"
   },
   "outputs": [],
   "source": [
    "#from google.colab import drive\n",
    "#drive.mount('/content/drive')"
   ]
  },
  {
   "cell_type": "code",
   "execution_count": 3,
   "metadata": {
    "ExecuteTime": {
     "end_time": "2020-03-09T07:32:50.854852Z",
     "start_time": "2020-03-09T07:32:50.812739Z"
    },
    "colab": {},
    "colab_type": "code",
    "id": "zM60UBsDRn3B"
   },
   "outputs": [],
   "source": [
    "# load dataset\n",
    "# your code here\n",
    "data = pd.read_csv('houseprice.csv')\n"
   ]
  },
  {
   "cell_type": "markdown",
   "metadata": {
    "colab_type": "text",
    "id": "XJxcbubGRn3O"
   },
   "source": [
    "### Types of variables\n",
    "\n"
   ]
  },
  {
   "cell_type": "code",
   "execution_count": 4,
   "metadata": {
    "ExecuteTime": {
     "end_time": "2020-03-09T07:32:51.725905Z",
     "start_time": "2020-03-09T07:32:51.719889Z"
    },
    "colab": {
     "base_uri": "https://localhost:8080/",
     "height": 52
    },
    "colab_type": "code",
    "id": "RCF32K50Rn3R",
    "outputId": "dd0ca37a-8e75-4aec-aac3-b54602a4be02"
   },
   "outputs": [
    {
     "name": "stdout",
     "output_type": "stream",
     "text": [
      "Number of House Id labels:  1460\n",
      "Number of Houses in the Dataset:  1460\n"
     ]
    }
   ],
   "source": [
    "# we have an Id variable, that we should not use for predictions:\n",
    "\n",
    "print('Number of House Id labels: ', len(data.Id.unique()))\n",
    "print('Number of Houses in the Dataset: ', len(data))"
   ]
  },
  {
   "cell_type": "markdown",
   "metadata": {
    "colab_type": "text",
    "id": "yAqm3qhURn3l"
   },
   "source": [
    "#### Find categorical variables"
   ]
  },
  {
   "cell_type": "code",
   "execution_count": 5,
   "metadata": {
    "ExecuteTime": {
     "end_time": "2020-03-09T07:32:53.140553Z",
     "start_time": "2020-03-09T07:32:53.135036Z"
    },
    "colab": {
     "base_uri": "https://localhost:8080/",
     "height": 35
    },
    "colab_type": "code",
    "id": "zRKcySl8Rn3s",
    "outputId": "715433df-245e-4fc6-9db3-f0eada74c6ed"
   },
   "outputs": [
    {
     "name": "stdout",
     "output_type": "stream",
     "text": [
      "There are 43 categorical variables\n"
     ]
    }
   ],
   "source": [
    "# find categorical variables- hint data type = 'O'\n",
    "\n",
    "categorical = [var for var in data.columns if data[var].dtype=='O']\n",
    "\n",
    "print(f'There are {len(categorical)} categorical variables')"
   ]
  },
  {
   "cell_type": "markdown",
   "metadata": {
    "colab_type": "text",
    "id": "fqOJWAGLRn36"
   },
   "source": [
    "#### Find temporal variables"
   ]
  },
  {
   "cell_type": "code",
   "execution_count": 6,
   "metadata": {
    "ExecuteTime": {
     "end_time": "2020-03-09T07:32:54.328164Z",
     "start_time": "2020-03-09T07:32:54.321146Z"
    },
    "colab": {
     "base_uri": "https://localhost:8080/",
     "height": 35
    },
    "colab_type": "code",
    "id": "PwVsrtj3Rn4B",
    "outputId": "5a575e38-d0a7-43c0-9f53-a22761246c92"
   },
   "outputs": [
    {
     "data": {
      "text/plain": [
       "['YearBuilt', 'YearRemodAdd', 'GarageYrBlt', 'YrSold']"
      ]
     },
     "execution_count": 6,
     "metadata": {},
     "output_type": "execute_result"
    }
   ],
   "source": [
    "# make a list of the numerical variables first= Hint data type != O\n",
    "numerical = [var for var in data.columns if data[var].dtype!='O']\n",
    "\n",
    "# list of variables that contain year information= Hint variable namme has Yr or \n",
    "year_vars = [var for var in numerical if 'Yr' in var or 'Year' in var]\n",
    "\n",
    "year_vars"
   ]
  },
  {
   "cell_type": "markdown",
   "metadata": {
    "colab_type": "text",
    "id": "ptU7Mq6ZRn4W"
   },
   "source": [
    "#### Find discrete variables\n",
    "\n",
    "To identify discrete variables- numerical variables with less than 20 unique values "
   ]
  },
  {
   "cell_type": "code",
   "execution_count": 7,
   "metadata": {
    "ExecuteTime": {
     "end_time": "2020-03-09T07:32:55.849304Z",
     "start_time": "2020-03-09T07:32:55.835765Z"
    },
    "colab": {
     "base_uri": "https://localhost:8080/",
     "height": 35
    },
    "colab_type": "code",
    "id": "YYespyEIRn4h",
    "outputId": "ddff6b2d-7a46-4053-fc2d-cea9d929ec17"
   },
   "outputs": [
    {
     "name": "stdout",
     "output_type": "stream",
     "text": [
      "There are 14 discrete variables\n"
     ]
    }
   ],
   "source": [
    "# let's visualise the values of the discrete variables\n",
    "discrete = [var for var in numerical if len(data[var].unique()) < 20 and var not in year_vars]\n",
    "\n",
    "print(f'There are {len(discrete)} discrete variables')"
   ]
  },
  {
   "cell_type": "markdown",
   "metadata": {
    "colab_type": "text",
    "id": "tufSebrvRn4t"
   },
   "source": [
    "#### Continuous variables"
   ]
  },
  {
   "cell_type": "code",
   "execution_count": 8,
   "metadata": {
    "ExecuteTime": {
     "end_time": "2020-03-09T07:32:57.274949Z",
     "start_time": "2020-03-09T07:32:57.268932Z"
    },
    "colab": {
     "base_uri": "https://localhost:8080/",
     "height": 35
    },
    "colab_type": "code",
    "id": "gnirUr4MRn4y",
    "outputId": "baf4770e-519e-4518-9658-fb63ed8a9b57"
   },
   "outputs": [
    {
     "name": "stdout",
     "output_type": "stream",
     "text": [
      "There are 38 numerical and continuous variables\n"
     ]
    }
   ],
   "source": [
    "# find continuous variables- hint numerical variables not in discrete and  year_years \n",
    "# Also remove the Id variable and the target variable SalePrice\n",
    "# which are both also numerical\n",
    "\n",
    "continuous = [var for var in numerical if var not in discrete and var not in [\n",
    "    'Id', 'SalePrice'] and var not in year_vars]\n",
    "\n",
    "print('There are {} numerical and continuous variables'.format(len(numerical)))"
   ]
  },
  {
   "cell_type": "markdown",
   "metadata": {
    "colab_type": "text",
    "id": "dgdzwawoRn48"
   },
   "source": [
    "### Separate train and test set"
   ]
  },
  {
   "cell_type": "code",
   "execution_count": 9,
   "metadata": {
    "ExecuteTime": {
     "end_time": "2020-03-09T07:32:58.666697Z",
     "start_time": "2020-03-09T07:32:58.651653Z"
    },
    "colab": {
     "base_uri": "https://localhost:8080/",
     "height": 35
    },
    "colab_type": "code",
    "id": "LMHlHD8pRn5B",
    "outputId": "182b9673-b600-49c4-abb7-7eebb79b3ccd"
   },
   "outputs": [
    {
     "data": {
      "text/plain": [
       "((1314, 79), (146, 79))"
      ]
     },
     "execution_count": 9,
     "metadata": {},
     "output_type": "execute_result"
    }
   ],
   "source": [
    "# Let's separate into train and test set\n",
    "from sklearn.model_selection import train_test_split\n",
    "X_train, X_test, y_train, y_test = train_test_split(data.drop(['Id', 'SalePrice'], axis=1),\n",
    "                                                    data['SalePrice'],\n",
    "                                                    test_size=0.1,\n",
    "                                                    random_state=0)\n",
    "\n",
    "X_train.shape, X_test.shape"
   ]
  },
  {
   "cell_type": "markdown",
   "metadata": {
    "colab_type": "text",
    "id": "ogqAvST1Rn5I"
   },
   "source": [
    "**Now we will move on and engineer the features of this dataset. The most important part for this course.**"
   ]
  },
  {
   "cell_type": "markdown",
   "metadata": {
    "colab_type": "text",
    "id": "tpaWscgZRn5O"
   },
   "source": [
    "### Craete New Variables\n",
    "\n",
    "Replace 'YearBuilt', 'YearRemodAdd', 'GarageYrBlt  with time elapsed since YrSold\n",
    "So YearBuilt = YrSold-YearBuilt. \n",
    "\n",
    "Similarly transform 'YearRemodAdd', 'GarageYrBlt.\n",
    "After making transformation drop YrSold"
   ]
  },
  {
   "cell_type": "code",
   "execution_count": 10,
   "metadata": {
    "ExecuteTime": {
     "end_time": "2020-03-09T07:33:00.776674Z",
     "start_time": "2020-03-09T07:33:00.771663Z"
    },
    "colab": {},
    "colab_type": "code",
    "id": "qS5z-lW9Rn5Q"
   },
   "outputs": [],
   "source": [
    "# function to calculate elapsed time\n",
    "\n",
    "def elapsed_years(df, var):\n",
    "    # capture difference between year variable and\n",
    "    # year the house was sold\n",
    "    \n",
    "    df[var] = df['YrSold'] - df[var]\n",
    "    return df"
   ]
  },
  {
   "cell_type": "code",
   "execution_count": 11,
   "metadata": {
    "ExecuteTime": {
     "end_time": "2020-03-09T07:33:02.547542Z",
     "start_time": "2020-03-09T07:33:02.540522Z"
    },
    "colab": {},
    "colab_type": "code",
    "id": "R0Dzw_NFRn5X"
   },
   "outputs": [],
   "source": [
    "for var in ['YearBuilt', 'YearRemodAdd', 'GarageYrBlt']:\n",
    "    X_train = elapsed_years(X_train, var)\n",
    "    X_test = elapsed_years(X_test, var)"
   ]
  },
  {
   "cell_type": "code",
   "execution_count": 12,
   "metadata": {
    "ExecuteTime": {
     "end_time": "2020-03-09T07:33:03.567722Z",
     "start_time": "2020-03-09T07:33:03.559698Z"
    },
    "colab": {},
    "colab_type": "code",
    "id": "7VmwIwMERn5o"
   },
   "outputs": [],
   "source": [
    "# drop YrSold\n",
    "X_train.drop('YrSold', axis=1, inplace=True)\n",
    "X_test.drop('YrSold', axis=1, inplace=True)"
   ]
  },
  {
   "cell_type": "code",
   "execution_count": 13,
   "metadata": {
    "ExecuteTime": {
     "end_time": "2020-03-09T07:33:04.982369Z",
     "start_time": "2020-03-09T07:33:04.978849Z"
    },
    "colab": {},
    "colab_type": "code",
    "id": "X04e4vFwRn5w"
   },
   "outputs": [],
   "source": [
    "year_vars.remove('YrSold')"
   ]
  },
  {
   "cell_type": "code",
   "execution_count": 14,
   "metadata": {
    "ExecuteTime": {
     "end_time": "2020-03-09T07:33:05.869066Z",
     "start_time": "2020-03-09T07:33:05.863050Z"
    },
    "colab": {
     "base_uri": "https://localhost:8080/",
     "height": 316
    },
    "colab_type": "code",
    "id": "gYEHz6pZRn6D",
    "outputId": "0a24e08c-7f8f-49f6-8264-203526efa2db"
   },
   "outputs": [
    {
     "data": {
      "text/plain": [
       "Index(['MSSubClass', 'MSZoning', 'LotFrontage', 'LotArea', 'Street', 'Alley',\n",
       "       'LotShape', 'LandContour', 'Utilities', 'LotConfig', 'LandSlope',\n",
       "       'Neighborhood', 'Condition1', 'Condition2', 'BldgType', 'HouseStyle',\n",
       "       'OverallQual', 'OverallCond', 'YearBuilt', 'YearRemodAdd', 'RoofStyle',\n",
       "       'RoofMatl', 'Exterior1st', 'Exterior2nd', 'MasVnrType', 'MasVnrArea',\n",
       "       'ExterQual', 'ExterCond', 'Foundation', 'BsmtQual', 'BsmtCond',\n",
       "       'BsmtExposure', 'BsmtFinType1', 'BsmtFinSF1', 'BsmtFinType2',\n",
       "       'BsmtFinSF2', 'BsmtUnfSF', 'TotalBsmtSF', 'Heating', 'HeatingQC',\n",
       "       'CentralAir', 'Electrical', '1stFlrSF', '2ndFlrSF', 'LowQualFinSF',\n",
       "       'GrLivArea', 'BsmtFullBath', 'BsmtHalfBath', 'FullBath', 'HalfBath',\n",
       "       'BedroomAbvGr', 'KitchenAbvGr', 'KitchenQual', 'TotRmsAbvGrd',\n",
       "       'Functional', 'Fireplaces', 'FireplaceQu', 'GarageType', 'GarageYrBlt',\n",
       "       'GarageFinish', 'GarageCars', 'GarageArea', 'GarageQual', 'GarageCond',\n",
       "       'PavedDrive', 'WoodDeckSF', 'OpenPorchSF', 'EnclosedPorch', '3SsnPorch',\n",
       "       'ScreenPorch', 'PoolArea', 'PoolQC', 'Fence', 'MiscFeature', 'MiscVal',\n",
       "       'MoSold', 'SaleType', 'SaleCondition'],\n",
       "      dtype='object')"
      ]
     },
     "execution_count": 14,
     "metadata": {},
     "output_type": "execute_result"
    }
   ],
   "source": [
    "# capture the column names for use later in the notebook\n",
    "final_columns = X_train.columns\n",
    "final_columns"
   ]
  },
  {
   "cell_type": "code",
   "execution_count": 15,
   "metadata": {
    "colab": {
     "base_uri": "https://localhost:8080/",
     "height": 545
    },
    "colab_type": "code",
    "id": "k1r1D10xSXQH",
    "outputId": "ad165eb4-5528-44cc-fa41-c71712af287f",
    "scrolled": true
   },
   "outputs": [
    {
     "name": "stdout",
     "output_type": "stream",
     "text": [
      "Requirement already satisfied: feature_engine in c:\\users\\14695\\appdata\\local\\continuum\\anaconda3\\envs\\buan6341_2020\\lib\\site-packages (0.3.1)\n",
      "Requirement already satisfied: numpy>=1.12.1 in c:\\users\\14695\\appdata\\local\\continuum\\anaconda3\\envs\\buan6341_2020\\lib\\site-packages (from feature_engine) (1.17.4)\n",
      "Requirement already satisfied: statsmodels>=0.8.0 in c:\\users\\14695\\appdata\\local\\continuum\\anaconda3\\envs\\buan6341_2020\\lib\\site-packages (from feature_engine) (0.10.1)\n",
      "Requirement already satisfied: scipy>=0.19.0 in c:\\users\\14695\\appdata\\local\\continuum\\anaconda3\\envs\\buan6341_2020\\lib\\site-packages (from feature_engine) (1.4.1)\n",
      "Requirement already satisfied: numpydoc>=0.6.0 in c:\\users\\14695\\appdata\\local\\continuum\\anaconda3\\envs\\buan6341_2020\\lib\\site-packages (from feature_engine) (0.9.2)\n",
      "Requirement already satisfied: pandas>=0.23.0 in c:\\users\\14695\\appdata\\local\\continuum\\anaconda3\\envs\\buan6341_2020\\lib\\site-packages (from feature_engine) (0.25.3)\n",
      "Requirement already satisfied: scikit-learn>=0.18.1 in c:\\users\\14695\\appdata\\local\\continuum\\anaconda3\\envs\\buan6341_2020\\lib\\site-packages (from feature_engine) (0.22.1)\n",
      "Requirement already satisfied: patsy>=0.4.0 in c:\\users\\14695\\appdata\\local\\continuum\\anaconda3\\envs\\buan6341_2020\\lib\\site-packages (from statsmodels>=0.8.0->feature_engine) (0.5.1)\n",
      "Requirement already satisfied: sphinx>=1.6.5 in c:\\users\\14695\\appdata\\local\\continuum\\anaconda3\\envs\\buan6341_2020\\lib\\site-packages (from numpydoc>=0.6.0->feature_engine) (2.4.0)\n",
      "Requirement already satisfied: Jinja2>=2.3 in c:\\users\\14695\\appdata\\local\\continuum\\anaconda3\\envs\\buan6341_2020\\lib\\site-packages (from numpydoc>=0.6.0->feature_engine) (2.11.1)\n",
      "Requirement already satisfied: python-dateutil>=2.6.1 in c:\\users\\14695\\appdata\\local\\continuum\\anaconda3\\envs\\buan6341_2020\\lib\\site-packages (from pandas>=0.23.0->feature_engine) (2.8.1)\n",
      "Requirement already satisfied: pytz>=2017.2 in c:\\users\\14695\\appdata\\local\\continuum\\anaconda3\\envs\\buan6341_2020\\lib\\site-packages (from pandas>=0.23.0->feature_engine) (2019.3)\n",
      "Requirement already satisfied: joblib>=0.11 in c:\\users\\14695\\appdata\\local\\continuum\\anaconda3\\envs\\buan6341_2020\\lib\\site-packages (from scikit-learn>=0.18.1->feature_engine) (0.14.1)\n",
      "Requirement already satisfied: six in c:\\users\\14695\\appdata\\local\\continuum\\anaconda3\\envs\\buan6341_2020\\lib\\site-packages (from patsy>=0.4.0->statsmodels>=0.8.0->feature_engine) (1.13.0)\n",
      "Requirement already satisfied: babel!=2.0,>=1.3 in c:\\users\\14695\\appdata\\local\\continuum\\anaconda3\\envs\\buan6341_2020\\lib\\site-packages (from sphinx>=1.6.5->numpydoc>=0.6.0->feature_engine) (2.8.0)\n",
      "Requirement already satisfied: docutils>=0.12 in c:\\users\\14695\\appdata\\local\\continuum\\anaconda3\\envs\\buan6341_2020\\lib\\site-packages (from sphinx>=1.6.5->numpydoc>=0.6.0->feature_engine) (0.16)\n",
      "Requirement already satisfied: snowballstemmer>=1.1 in c:\\users\\14695\\appdata\\local\\continuum\\anaconda3\\envs\\buan6341_2020\\lib\\site-packages (from sphinx>=1.6.5->numpydoc>=0.6.0->feature_engine) (2.0.0)\n",
      "Requirement already satisfied: sphinxcontrib-devhelp in c:\\users\\14695\\appdata\\local\\continuum\\anaconda3\\envs\\buan6341_2020\\lib\\site-packages (from sphinx>=1.6.5->numpydoc>=0.6.0->feature_engine) (1.0.1)\n",
      "Requirement already satisfied: imagesize in c:\\users\\14695\\appdata\\local\\continuum\\anaconda3\\envs\\buan6341_2020\\lib\\site-packages (from sphinx>=1.6.5->numpydoc>=0.6.0->feature_engine) (1.2.0)\n",
      "Requirement already satisfied: setuptools in c:\\users\\14695\\appdata\\local\\continuum\\anaconda3\\envs\\buan6341_2020\\lib\\site-packages (from sphinx>=1.6.5->numpydoc>=0.6.0->feature_engine) (44.0.0.post20200106)\n",
      "Requirement already satisfied: sphinxcontrib-jsmath in c:\\users\\14695\\appdata\\local\\continuum\\anaconda3\\envs\\buan6341_2020\\lib\\site-packages (from sphinx>=1.6.5->numpydoc>=0.6.0->feature_engine) (1.0.1)\n",
      "Requirement already satisfied: sphinxcontrib-qthelp in c:\\users\\14695\\appdata\\local\\continuum\\anaconda3\\envs\\buan6341_2020\\lib\\site-packages (from sphinx>=1.6.5->numpydoc>=0.6.0->feature_engine) (1.0.2)\n",
      "Requirement already satisfied: packaging in c:\\users\\14695\\appdata\\local\\continuum\\anaconda3\\envs\\buan6341_2020\\lib\\site-packages (from sphinx>=1.6.5->numpydoc>=0.6.0->feature_engine) (20.1)\n",
      "Requirement already satisfied: Pygments>=2.0 in c:\\users\\14695\\appdata\\local\\continuum\\anaconda3\\envs\\buan6341_2020\\lib\\site-packages (from sphinx>=1.6.5->numpydoc>=0.6.0->feature_engine) (2.5.2)\n",
      "Requirement already satisfied: sphinxcontrib-applehelp in c:\\users\\14695\\appdata\\local\\continuum\\anaconda3\\envs\\buan6341_2020\\lib\\site-packages (from sphinx>=1.6.5->numpydoc>=0.6.0->feature_engine) (1.0.1)\n",
      "Requirement already satisfied: sphinxcontrib-htmlhelp in c:\\users\\14695\\appdata\\local\\continuum\\anaconda3\\envs\\buan6341_2020\\lib\\site-packages (from sphinx>=1.6.5->numpydoc>=0.6.0->feature_engine) (1.0.2)\n",
      "Requirement already satisfied: sphinxcontrib-serializinghtml in c:\\users\\14695\\appdata\\local\\continuum\\anaconda3\\envs\\buan6341_2020\\lib\\site-packages (from sphinx>=1.6.5->numpydoc>=0.6.0->feature_engine) (1.1.3)\n",
      "Requirement already satisfied: requests>=2.5.0 in c:\\users\\14695\\appdata\\local\\continuum\\anaconda3\\envs\\buan6341_2020\\lib\\site-packages (from sphinx>=1.6.5->numpydoc>=0.6.0->feature_engine) (2.22.0)\n",
      "Requirement already satisfied: alabaster<0.8,>=0.7 in c:\\users\\14695\\appdata\\local\\continuum\\anaconda3\\envs\\buan6341_2020\\lib\\site-packages (from sphinx>=1.6.5->numpydoc>=0.6.0->feature_engine) (0.7.12)\n",
      "Requirement already satisfied: colorama>=0.3.5; sys_platform == \"win32\" in c:\\users\\14695\\appdata\\local\\continuum\\anaconda3\\envs\\buan6341_2020\\lib\\site-packages (from sphinx>=1.6.5->numpydoc>=0.6.0->feature_engine) (0.4.3)\n",
      "Requirement already satisfied: MarkupSafe>=0.23 in c:\\users\\14695\\appdata\\local\\continuum\\anaconda3\\envs\\buan6341_2020\\lib\\site-packages (from Jinja2>=2.3->numpydoc>=0.6.0->feature_engine) (1.1.1)\n",
      "Requirement already satisfied: pyparsing>=2.0.2 in c:\\users\\14695\\appdata\\local\\continuum\\anaconda3\\envs\\buan6341_2020\\lib\\site-packages (from packaging->sphinx>=1.6.5->numpydoc>=0.6.0->feature_engine) (2.4.6)\n",
      "Requirement already satisfied: idna<2.9,>=2.5 in c:\\users\\14695\\appdata\\local\\continuum\\anaconda3\\envs\\buan6341_2020\\lib\\site-packages (from requests>=2.5.0->sphinx>=1.6.5->numpydoc>=0.6.0->feature_engine) (2.8)\n",
      "Requirement already satisfied: certifi>=2017.4.17 in c:\\users\\14695\\appdata\\local\\continuum\\anaconda3\\envs\\buan6341_2020\\lib\\site-packages (from requests>=2.5.0->sphinx>=1.6.5->numpydoc>=0.6.0->feature_engine) (2019.11.28)\n",
      "Requirement already satisfied: chardet<3.1.0,>=3.0.2 in c:\\users\\14695\\appdata\\local\\continuum\\anaconda3\\envs\\buan6341_2020\\lib\\site-packages (from requests>=2.5.0->sphinx>=1.6.5->numpydoc>=0.6.0->feature_engine) (3.0.4)\n",
      "Requirement already satisfied: urllib3!=1.25.0,!=1.25.1,<1.26,>=1.21.1 in c:\\users\\14695\\appdata\\local\\continuum\\anaconda3\\envs\\buan6341_2020\\lib\\site-packages (from requests>=2.5.0->sphinx>=1.6.5->numpydoc>=0.6.0->feature_engine) (1.24.3)\n",
      "Note: you may need to restart the kernel to use updated packages.\n"
     ]
    }
   ],
   "source": [
    "pip install feature_engine"
   ]
  },
  {
   "cell_type": "markdown",
   "metadata": {
    "colab_type": "text",
    "id": "aY4PLw6VRn6R"
   },
   "source": [
    "### Feature Engineering Pipeline"
   ]
  },
  {
   "cell_type": "code",
   "execution_count": 16,
   "metadata": {
    "ExecuteTime": {
     "end_time": "2020-03-09T07:33:07.930697Z",
     "start_time": "2020-03-09T07:33:07.909638Z"
    },
    "colab": {},
    "colab_type": "code",
    "id": "Xeku96s1Rn6V"
   },
   "outputs": [],
   "source": [
    "# I will treat discrete variables as if they were categorical\n",
    "# to treat discrete as categorical using Feature-engine\n",
    "# we need to re-cast them as object\n",
    "\n",
    "X_train[discrete] = X_train[discrete].astype('O')\n",
    "X_test[discrete] = X_test[discrete].astype('O')"
   ]
  },
  {
   "cell_type": "code",
   "execution_count": 17,
   "metadata": {
    "ExecuteTime": {
     "end_time": "2020-03-09T07:33:10.023580Z",
     "start_time": "2020-03-09T07:33:10.018569Z"
    },
    "colab": {},
    "colab_type": "code",
    "id": "XAY70fLmRn6g"
   },
   "outputs": [],
   "source": [
    "# import relevant modules for feature engineering\n",
    "from sklearn.pipeline import Pipeline\n",
    "from sklearn.preprocessing import StandardScaler\n",
    "from feature_engine import missing_data_imputers as mdi\n",
    "from feature_engine import categorical_encoders as ce\n",
    "from feature_engine.variable_transformers import YeoJohnsonTransformer\n",
    "from sklearn.preprocessing import StandardScaler\n",
    "from feature_engine.discretisers import DecisionTreeDiscretiser"
   ]
  },
  {
   "cell_type": "code",
   "execution_count": 18,
   "metadata": {
    "ExecuteTime": {
     "end_time": "2020-03-09T07:33:11.578215Z",
     "start_time": "2020-03-09T07:33:11.570194Z"
    },
    "colab": {},
    "colab_type": "code",
    "id": "8MAdPubXRn62"
   },
   "outputs": [],
   "source": [
    "house_preprocess = Pipeline([\n",
    "    \n",
    "    # missing data imputation \n",
    "    ('missing_ind', mdi.AddNaNBinaryImputer(\n",
    "        variables=['LotFrontage', 'MasVnrArea',  'GarageYrBlt'])),\n",
    "    ('imputer_num', mdi.MeanMedianImputer(imputation_method='mean',\n",
    "                                          variables=['LotFrontage', 'MasVnrArea',  'GarageYrBlt'])),\n",
    "    ('imputer_cat', mdi.CategoricalVariableImputer(variables=categorical)),\n",
    "\n",
    "    # categorical encoding \n",
    "     ('rare_label_enc', ce.RareLabelCategoricalEncoder(\n",
    "         tol=0.01,n_categories=6, variables=categorical+discrete)),\n",
    "    ('categorical_enc', ce.MeanCategoricalEncoder(variables = categorical + discrete)),\n",
    "     \n",
    "    # Transforming Numerical Variables\n",
    "    ('yjt', YeoJohnsonTransformer(variables = ['LotFrontage','MasVnrArea', 'GarageYrBlt'])),\n",
    "\n",
    "    \n",
    "    # discretisation and encoding\n",
    "    ('treeDisc',  DecisionTreeDiscretiser(cv=2, scoring='neg_mean_squared_error',\n",
    "                                   regression=True,\n",
    "                                   param_grid={'max_depth': [1,2,3,4,5,6]})),\n",
    "\n",
    "    # feature Scaling\n",
    "    ('scaler', StandardScaler()),\n",
    "    \n",
    "    \n",
    "\n",
    "])"
   ]
  },
  {
   "cell_type": "code",
   "execution_count": 19,
   "metadata": {
    "ExecuteTime": {
     "end_time": "2020-03-09T07:33:18.934597Z",
     "start_time": "2020-03-09T07:33:15.096006Z"
    },
    "colab": {
     "base_uri": "https://localhost:8080/",
     "height": 510
    },
    "colab_type": "code",
    "id": "KM2ujAOwRn68",
    "outputId": "99248ea2-ed94-44b3-becf-0d1c0a058274"
   },
   "outputs": [
    {
     "data": {
      "text/plain": [
       "Pipeline(memory=None,\n",
       "         steps=[('missing_ind',\n",
       "                 AddNaNBinaryImputer(variables=['LotFrontage', 'MasVnrArea',\n",
       "                                                'GarageYrBlt'])),\n",
       "                ('imputer_num',\n",
       "                 MeanMedianImputer(imputation_method='mean',\n",
       "                                   variables=['LotFrontage', 'MasVnrArea',\n",
       "                                              'GarageYrBlt'])),\n",
       "                ('imputer_cat',\n",
       "                 CategoricalVariableImputer(variables=['MSZoning', 'Street',\n",
       "                                                       'Alley', 'LotShape',\n",
       "                                                       'LandContour',\n",
       "                                                       'Utilities', '...\n",
       "                                                    'Utilities', 'LotConfig',\n",
       "                                                    'LandSlope', 'Neighborhood',\n",
       "                                                    'Condition1', 'Condition2',\n",
       "                                                    'BldgType', 'HouseStyle',\n",
       "                                                    'OverallQual',\n",
       "                                                    'OverallCond', 'YearBuilt',\n",
       "                                                    'YearRemodAdd', 'RoofStyle',\n",
       "                                                    'RoofMatl', 'Exterior1st',\n",
       "                                                    'Exterior2nd', 'MasVnrType',\n",
       "                                                    'MasVnrArea', 'ExterQual',\n",
       "                                                    'ExterCond', 'Foundation',\n",
       "                                                    'BsmtQual', ...])),\n",
       "                ('scaler',\n",
       "                 StandardScaler(copy=True, with_mean=True, with_std=True))],\n",
       "         verbose=False)"
      ]
     },
     "execution_count": 19,
     "metadata": {},
     "output_type": "execute_result"
    }
   ],
   "source": [
    "house_preprocess.fit(X_train,y_train)"
   ]
  },
  {
   "cell_type": "code",
   "execution_count": 20,
   "metadata": {
    "ExecuteTime": {
     "end_time": "2020-03-09T07:33:21.351997Z",
     "start_time": "2020-03-09T07:33:20.885744Z"
    },
    "colab": {},
    "colab_type": "code",
    "id": "Yl09riEDRn7X"
   },
   "outputs": [],
   "source": [
    "# Apply Transformations\n",
    "X_train=house_preprocess.transform(X_train)\n",
    "X_test=house_preprocess.transform(X_test)"
   ]
  },
  {
   "cell_type": "markdown",
   "metadata": {
    "colab_type": "text",
    "id": "WFUriE8URn7d"
   },
   "source": [
    "## <span class=\"mark\">DO NOT CHANGE STEPS BEFORE THIS POINT</span>"
   ]
  },
  {
   "cell_type": "markdown",
   "metadata": {
    "ExecuteTime": {
     "end_time": "2020-03-09T04:00:12.095764Z",
     "start_time": "2020-03-09T04:00:12.093253Z"
    },
    "colab_type": "text",
    "id": "nObpdYB0Rn7u"
   },
   "source": [
    "## Regression Models- Tune different models one by one"
   ]
  },
  {
   "cell_type": "markdown",
   "metadata": {},
   "source": [
    "# LINEAR REGRESSION"
   ]
  },
  {
   "cell_type": "code",
   "execution_count": 21,
   "metadata": {
    "ExecuteTime": {
     "end_time": "2020-03-09T07:33:23.368390Z",
     "start_time": "2020-03-09T07:33:23.292686Z"
    },
    "colab": {
     "base_uri": "https://localhost:8080/",
     "height": 475
    },
    "colab_type": "code",
    "id": "GQdY9vpqRn75",
    "outputId": "432a92d2-5ab9-428b-b671-58405c98f973"
   },
   "outputs": [
    {
     "name": "stdout",
     "output_type": "stream",
     "text": [
      "Mean Cross-validation scores: [ 8.68250071e-01 -1.82946152e+21  8.77161153e-01  8.98296189e-01\n",
      "  8.92093773e-01]\n",
      "lr.coef_: [ 8.74692295e+02  9.72879918e+02  1.43598424e+03  2.41530789e+03\n",
      "  1.55922446e+03  3.31539942e+02  5.84804509e+02  1.20332634e+03\n",
      "  1.48520143e+03  2.33009441e+03  1.17630965e+03  1.13744157e+04\n",
      "  1.26748073e+03  2.03977054e+03  1.11272495e+03 -1.03635447e+03\n",
      "  1.58434519e+04 -2.93676378e+02 -5.41610661e+03  3.98221701e+03\n",
      "  3.68590080e+02 -1.04048824e+03  3.19187631e+03 -2.39551624e+03\n",
      " -8.64923875e+02  2.87894951e+02  2.67846806e+03  7.08957253e+02\n",
      "  1.02948711e+02  2.34865476e+03  5.71438886e+02  3.60875596e+03\n",
      "  1.23986809e+03  5.64889112e+03 -1.47594682e+03  1.93575359e+03\n",
      " -2.70259491e+02  7.61385836e+03  2.15847425e+02  1.45627677e+03\n",
      "  1.18463265e+03 -7.40189368e+02  1.22327269e+04  1.12776771e+04\n",
      "  4.16965516e+03  5.78069444e+03  2.85514634e+03 -1.32019971e+03\n",
      "  4.18391534e+03  5.24407111e+03  6.05123160e+02  3.06070473e+03\n",
      "  3.74704855e+03  3.12566418e+03  3.00668621e+03  7.39921004e+02\n",
      "  1.47372348e+03 -2.02172925e+03 -2.06185250e+03 -9.59751477e+02\n",
      "  3.96677470e+03  5.95143306e+02  2.35990761e+03  8.70466742e+01\n",
      " -2.74000854e+00  1.36487372e+03  1.54321076e+03  8.69710870e+01\n",
      "  2.25820825e+03  2.63005237e+03 -6.53223334e+16  6.53223334e+16\n",
      " -3.37438686e+02 -2.02954558e+03  7.48388039e+02 -1.84439200e+02\n",
      " -1.32180507e+03  5.48778019e+03 -2.13173046e+02  2.78063957e+02\n",
      " -1.29361336e+02]\n",
      "lr.intercept_: 181040.6240487064\n",
      "LR Train Performance Test:  0.9115050551047296\n",
      "LR test Performance Test 0.8750157906112974\n",
      "train mse: 552547557.8530211\n",
      "train rmse: 23506.330165575\n",
      "train r2: 0.9115050551047296\n",
      "\n",
      "test mse: 858905895.9299477\n",
      "test rmse: 29307.096340817316\n",
      "test r2: 0.8750157906112974\n"
     ]
    }
   ],
   "source": [
    "# Train a linear regression model, report the coefficients and model performance \n",
    "import warnings\n",
    "warnings.filterwarnings(\"ignore\")\n",
    "from sklearn.linear_model import LinearRegression\n",
    "from sklearn.model_selection import cross_val_score\n",
    "from sklearn.model_selection import GridSearchCV\n",
    "from sklearn.metrics import mean_squared_error,r2_score\n",
    "\n",
    "lr = LinearRegression()\n",
    "lr.fit(X_train, y_train)\n",
    "cv_scores = cross_val_score(lr, X_train, y_train,)\n",
    "\n",
    "# Mean Cross validation Score\n",
    "print(\"Mean Cross-validation scores: {}\".format(cv_scores))\n",
    "\n",
    "# Print Co-efficients\n",
    "print(\"lr.coef_:\", lr.coef_)\n",
    "print(\"lr.intercept_:\", lr.intercept_)\n",
    "#print(\"lr.score:\",lr.best_score_)\n",
    "\n",
    "# Check test data set performance\n",
    "print(\"LR Train Performance Test: \", lr.score(X_train,y_train))\n",
    "print(\"LR test Performance Test\",lr.score(X_test,y_test))\n",
    "\n",
    "X_train_preds = lr.predict(X_train)\n",
    "X_test_preds = lr.predict(X_test)\n",
    "\n",
    "print('train mse: {}'.format(mean_squared_error(y_train, X_train_preds)))\n",
    "print('train rmse: {}'.format(sqrt(mean_squared_error(y_train, X_train_preds))))\n",
    "print('train r2: {}'.format(r2_score(y_train, X_train_preds)))\n",
    "print()\n",
    "print('test mse: {}'.format(mean_squared_error(y_test, X_test_preds)))\n",
    "print('test rmse: {}'.format(sqrt(mean_squared_error(y_test, X_test_preds))))\n",
    "print('test r2: {}'.format(r2_score(y_test, X_test_preds)))"
   ]
  },
  {
   "cell_type": "markdown",
   "metadata": {},
   "source": [
    "# SGD REGRESSOR\n"
   ]
  },
  {
   "cell_type": "code",
   "execution_count": 83,
   "metadata": {
    "colab": {
     "base_uri": "https://localhost:8080/",
     "height": 158
    },
    "colab_type": "code",
    "id": "eH6mOqiyRn7_",
    "outputId": "80183739-c8bc-439d-c054-b84d41b7a973"
   },
   "outputs": [
    {
     "name": "stdout",
     "output_type": "stream",
     "text": [
      "grid_sgd.coef_: {'sgd_reg__alpha': 0.1, 'sgd_reg__eta0': 0.010199999999999999, 'sgd_reg__penalty': 'l2'}\n",
      "grid_sgd.score 0.8836423827851494\n",
      "train mse: 580454980.277078\n",
      "train rmse: 24092.633319690856\n",
      "train r2: 0.9070354564711168\n",
      "\n",
      "test mse: 826521669.8658936\n",
      "test rmse: 28749.289901941815\n",
      "test r2: 0.8797282007955336\n"
     ]
    }
   ],
   "source": [
    "from sklearn.metrics import mean_squared_error\n",
    "from sklearn.metrics import r2_score\n",
    "from sklearn.linear_model import SGDRegressor\n",
    "from math import sqrt\n",
    "reg_sgd_pipe = Pipeline([\n",
    "    ('sgd_reg', SGDRegressor(max_iter=1000, tol = 1e-6))\n",
    "        ])\n",
    "param_sgd = {'sgd_reg__eta0':np.linspace(0.0001,1,100), 'sgd_reg__penalty' :['l1','l2'],'sgd_reg__alpha' :[100,10,1,0.1,0.01,0.001]}\n",
    "grid_sgd = GridSearchCV(reg_sgd_pipe, param_sgd,cv=5, n_jobs=-1, return_train_score = True,scoring='r2')\n",
    "# Check test data set performance\n",
    "\n",
    "grid_sgd.fit(X_train, y_train)\n",
    "\n",
    "# let's get the predictions\n",
    "X_train_preds = grid_sgd.predict(X_train)\n",
    "X_test_preds = grid_sgd.predict(X_test)\n",
    "print(\"grid_sgd.coef_:\", grid_sgd.best_params_)\n",
    "print(\"grid_sgd.score\", grid_sgd.best_score_)\n",
    "\n",
    "print('train mse: {}'.format(mean_squared_error(y_train, X_train_preds)))\n",
    "print('train rmse: {}'.format(sqrt(mean_squared_error(y_train, X_train_preds))))\n",
    "print('train r2: {}'.format(r2_score(y_train, X_train_preds)))\n",
    "print()\n",
    "print('test mse: {}'.format(mean_squared_error(y_test, X_test_preds)))\n",
    "print('test rmse: {}'.format(sqrt(mean_squared_error(y_test, X_test_preds))))\n",
    "print('test r2: {}'.format(r2_score(y_test, X_test_preds)))"
   ]
  },
  {
   "cell_type": "markdown",
   "metadata": {},
   "source": [
    "# RIDGE"
   ]
  },
  {
   "cell_type": "code",
   "execution_count": 23,
   "metadata": {
    "ExecuteTime": {
     "end_time": "2020-03-09T07:33:32.923175Z",
     "start_time": "2020-03-09T07:33:32.720114Z"
    },
    "colab": {
     "base_uri": "https://localhost:8080/",
     "height": 615
    },
    "colab_type": "code",
    "id": "4BfSWjxDRn8a",
    "outputId": "0d376a2d-0882-4a0e-a06e-efd37d489dd5"
   },
   "outputs": [
    {
     "name": "stdout",
     "output_type": "stream",
     "text": [
      "Best Mean Cross-validation score: 0.89\n",
      "Number of iteration:5\n",
      "Mean Accuracy:0.8818969790895619\n",
      "Ridge parameters:  {'alpha': 111.11200000000001, 'max_iter': 1, 'tol': 0.1}\n",
      "Ridge.coef_: [ 6.14923570e+02  1.18815132e+03  1.43374536e+03  2.66397231e+03\n",
      "  1.50256700e+03  2.57909805e+02  6.77444690e+02  1.18505571e+03\n",
      "  1.41272144e+03  2.23195970e+03  1.25655577e+03  9.80143992e+03\n",
      "  1.22913309e+03  1.97789166e+03  1.21185105e+03 -6.37455745e+02\n",
      "  1.28761649e+04 -4.74099437e+02 -2.66752274e+03  3.18082395e+03\n",
      "  7.08025188e+02 -5.71762854e+02  1.70812640e+03 -1.19053599e+03\n",
      " -8.03633343e+02  8.61663506e+02  3.43176014e+03  6.86957598e+02\n",
      " -3.05551189e+02  2.74455022e+03  4.47955751e+02  3.44259635e+03\n",
      "  1.38072610e+03  5.86835782e+03 -1.18908757e+03  1.82979133e+03\n",
      " -2.41222354e+02  7.77736208e+03  1.56649872e+02  1.41839632e+03\n",
      "  1.23312397e+03 -5.26924115e+02  1.06539171e+04  1.00738499e+04\n",
      "  3.69647792e+03  6.27870376e+03  2.52255395e+03 -1.08401246e+03\n",
      "  3.79347973e+03  4.44808380e+03  8.46572132e+02  2.83903985e+03\n",
      "  4.22596166e+03  3.76895038e+03  2.84242325e+03  1.19503108e+03\n",
      "  1.89981324e+03 -1.41169290e+03 -1.42932173e+03 -7.66266520e+02\n",
      "  3.49417772e+03  1.56845185e+03  1.60290263e+03  5.34338572e+02\n",
      "  4.19025438e+01  1.29952294e+03  1.58342824e+03 -8.17871372e+01\n",
      "  2.05003860e+03  2.50604941e+03 -6.53779913e+02 -6.53779913e+02\n",
      " -3.70575260e+02 -1.50057112e+03  4.84823455e+02 -9.78080191e+01\n",
      "  2.97829955e+02  3.29661996e+03 -2.56606232e+02  3.28304133e+02\n",
      "  1.01516603e+01]\n",
      "Ridge.intercept_: 181040.6240487064\n",
      "Ridge Test Performance:  0.8728204400681026\n",
      "train mse: 561142872.851292\n",
      "train rmse: 23688.454420904967\n",
      "train r2: 0.9101284461299565\n",
      "\n",
      "test mse: 873992597.9573915\n",
      "test rmse: 29563.365809010847\n",
      "test r2: 0.8728204400681027\n"
     ]
    }
   ],
   "source": [
    "# Train a Ridge regression model, report the coefficients, the best parameters, and model performance \n",
    "from sklearn.model_selection import GridSearchCV\n",
    "from sklearn.linear_model import Ridge\n",
    "ridge = Ridge()\n",
    "cv_scores = cross_val_score(ridge, X_train, y_train,cv=5)\n",
    "\n",
    "#define a list of parameters\n",
    "param_ridge = {'alpha':np.linspace(0.001,1000,100),'max_iter':[1,10,100,1000],'tol':[0.1,0.01,0.001,0.0001,0.00001] }\n",
    "\n",
    "grid_ridge = GridSearchCV(ridge, param_ridge, cv=7, return_train_score = True)\n",
    "grid_ridge.fit(X_train, y_train)\n",
    "# Mean Cross Validation Score\n",
    "print(\"Best Mean Cross-validation score: {:.2f}\".format(grid_ridge.best_score_))\n",
    "\n",
    "print(\"Number of iteration:{}\".format(len(cv_scores)))\n",
    "print(\"Mean Accuracy:{}\".format(cv_scores.mean()))\n",
    "\n",
    "#find best parameters\n",
    "print('Ridge parameters: ', grid_ridge.best_params_)\n",
    "\n",
    "# print co-eff\n",
    "\n",
    "print(\"Ridge.coef_:\", grid_ridge.best_estimator_.coef_)\n",
    "print(\"Ridge.intercept_:\", grid_ridge.best_estimator_.intercept_)\n",
    "\n",
    "# Check test data set performance\n",
    "\n",
    "print(\"Ridge Test Performance: \", grid_ridge.score(X_test,y_test))\n",
    "X_train_preds = grid_ridge.predict(X_train)\n",
    "X_test_preds = grid_ridge.predict(X_test)\n",
    "print('train mse: {}'.format(mean_squared_error(y_train, X_train_preds)))\n",
    "print('train rmse: {}'.format(sqrt(mean_squared_error(y_train, X_train_preds))))\n",
    "print('train r2: {}'.format(r2_score(y_train, X_train_preds)))\n",
    "print()\n",
    "print('test mse: {}'.format(mean_squared_error(y_test, X_test_preds)))\n",
    "print('test rmse: {}'.format(sqrt(mean_squared_error(y_test, X_test_preds))))\n",
    "print('test r2: {}'.format(r2_score(y_test, X_test_preds)))"
   ]
  },
  {
   "cell_type": "markdown",
   "metadata": {},
   "source": [
    "# LASSO"
   ]
  },
  {
   "cell_type": "code",
   "execution_count": 24,
   "metadata": {
    "ExecuteTime": {
     "end_time": "2020-03-09T07:33:38.130469Z",
     "start_time": "2020-03-09T07:33:37.468173Z"
    },
    "colab": {
     "base_uri": "https://localhost:8080/",
     "height": 475
    },
    "colab_type": "code",
    "id": "2qllB5fzRn8x",
    "outputId": "64e2ed2a-f585-469d-dc26-9fe544c555e0"
   },
   "outputs": [
    {
     "name": "stdout",
     "output_type": "stream",
     "text": [
      "Best Mean Cross-validation score: 0.89\n",
      "\n",
      "Lasso parameters:  {'alpha': 1109.090909090909}\n",
      "Lasso.coef_: [ 5.94841396e+02  7.46183065e+02  5.43402399e+02  2.97270207e+03\n",
      "  2.67105934e+02  0.00000000e+00  2.19337119e+02  5.23935000e+02\n",
      "  9.65855405e+01  1.36857752e+03  6.38955344e+02  1.07178204e+04\n",
      "  3.38519535e+02  1.21606364e+03  1.02208738e+03  0.00000000e+00\n",
      "  1.61244090e+04 -0.00000000e+00 -0.00000000e+00  2.53218590e+03\n",
      "  0.00000000e+00 -0.00000000e+00  0.00000000e+00  0.00000000e+00\n",
      "  0.00000000e+00  0.00000000e+00  1.72745723e+03  0.00000000e+00\n",
      "  0.00000000e+00  1.25068685e+03  0.00000000e+00  3.02624383e+03\n",
      "  0.00000000e+00  6.21707390e+03 -0.00000000e+00  8.26682290e+02\n",
      " -0.00000000e+00  8.20211675e+03  0.00000000e+00  4.07343171e+02\n",
      "  9.51707656e+02  0.00000000e+00  1.20039329e+04  1.13400370e+04\n",
      "  2.58611453e+03  6.09049609e+03  2.16389139e+03 -1.49084533e+02\n",
      "  2.01193506e+03  3.79039979e+03  2.51428333e+02  1.69670258e+03\n",
      "  4.09161557e+03  2.52831844e+03  1.53012663e+03  1.32699483e+03\n",
      "  1.11433793e+03  0.00000000e+00  0.00000000e+00  0.00000000e+00\n",
      "  3.66476800e+03  0.00000000e+00  9.05095145e+02  0.00000000e+00\n",
      "  0.00000000e+00  6.54875777e+02  6.15677818e+02  0.00000000e+00\n",
      "  1.70288560e+03  1.71218024e+03 -2.98539821e+02 -2.30349952e-12\n",
      " -0.00000000e+00 -8.87239126e+01 -0.00000000e+00 -0.00000000e+00\n",
      "  0.00000000e+00  2.33663018e+03  0.00000000e+00  0.00000000e+00\n",
      "  0.00000000e+00]\n",
      "Lasso.intercept_: 181040.62404870632\n",
      "Lasso Train Performance:  0.9045742635271026\n",
      "Lasso Test Performance:  0.8868403098159492\n",
      "train mse: 595822255.2353209\n",
      "train rmse: 24409.47060538841\n",
      "train r2: 0.9045742635271026\n",
      "\n",
      "test mse: 777646436.7463757\n",
      "test rmse: 27886.312713343363\n",
      "test r2: 0.8868403098159492\n"
     ]
    }
   ],
   "source": [
    "# Train a Lasso regression model, report the coefficients, the best parameters, and model performance \n",
    "\n",
    "# YOUR CODE HERE\n",
    "\n",
    "from sklearn.linear_model import Lasso\n",
    "lasso = Lasso(random_state=11)\n",
    "\n",
    "#define a list of parameters\n",
    "\n",
    "param_lasso = {'alpha':np.linspace(100,100000,100)}\n",
    "\n",
    "grid_lasso = GridSearchCV(lasso, param_lasso, cv=7, return_train_score = True)\n",
    "grid_lasso.fit(X_train, y_train)\n",
    "\n",
    "# Mean Cross Validation Score\n",
    "print(\"Best Mean Cross-validation score: {:.2f}\".format(grid_lasso.best_score_))\n",
    "print()\n",
    "\n",
    "#find best parameters\n",
    "print('Lasso parameters: ', grid_lasso.best_params_)\n",
    "\n",
    "# print co-eff\n",
    "\n",
    "print(\"Lasso.coef_:\", grid_lasso.best_estimator_.coef_)\n",
    "print(\"Lasso.intercept_:\", grid_lasso.best_estimator_.intercept_)\n",
    "\n",
    "# Check test data set performance\n",
    "print(\"Lasso Train Performance: \", grid_lasso.score(X_train,y_train))\n",
    "\n",
    "print(\"Lasso Test Performance: \", grid_lasso.score(X_test,y_test))\n",
    "\n",
    "X_train_preds = grid_lasso.predict(X_train)\n",
    "X_test_preds = grid_lasso.predict(X_test)\n",
    "\n",
    "print('train mse: {}'.format(mean_squared_error(y_train, X_train_preds)))\n",
    "print('train rmse: {}'.format(sqrt(mean_squared_error(y_train, X_train_preds))))\n",
    "print('train r2: {}'.format(r2_score(y_train, X_train_preds)))\n",
    "print()\n",
    "print('test mse: {}'.format(mean_squared_error(y_test, X_test_preds)))\n",
    "print('test rmse: {}'.format(sqrt(mean_squared_error(y_test, X_test_preds))))\n",
    "print('test r2: {}'.format(r2_score(y_test, X_test_preds)))"
   ]
  },
  {
   "cell_type": "markdown",
   "metadata": {},
   "source": [
    "# ELASTIC NET"
   ]
  },
  {
   "cell_type": "code",
   "execution_count": 25,
   "metadata": {
    "colab": {
     "base_uri": "https://localhost:8080/",
     "height": 1000
    },
    "colab_type": "code",
    "id": "Nxxb4kxtRn9P",
    "outputId": "f2fa46ab-d88d-4503-f8c4-f64ec24325b9"
   },
   "outputs": [
    {
     "name": "stdout",
     "output_type": "stream",
     "text": [
      "Training set score:  0.9102410052276642\n",
      "Test score:  0.8730194756756253\n",
      "Best parameters:  {'alpha': 0.1, 'l1_ratio': 0.2, 'max_iter': 100}\n",
      "Best cross-validation score: 0.8840709989966689\n",
      "train mse: 560440072.7690257\n",
      "train rmse: 23673.615540703235\n",
      "train r2: 0.9102410052276642\n",
      "\n",
      "test mse: 872624802.3163471\n",
      "test rmse: 29540.223464224964\n",
      "test r2: 0.8730194756756253\n"
     ]
    }
   ],
   "source": [
    "from sklearn.linear_model import ElasticNet\n",
    "elastic=ElasticNet()\n",
    "param_elasticnet = {'alpha':[0.00001, 0.0001, 0.001, 0.01, 0.1, 1, 10,100], 'l1_ratio' :[0.2,0.4,0.6,0.8],'max_iter':[1,10,100,500]}\n",
    "grid_elasticnet = GridSearchCV(elastic , param_elasticnet, cv=5, return_train_score = True)\n",
    "grid_elasticnet.fit(X_train, y_train)\n",
    "\n",
    "grid_elasticnet_train_score = grid_elasticnet.score(X_train, y_train)\n",
    "grid_elasticnet_test_score = grid_elasticnet.score(X_test, y_test)\n",
    "\n",
    "print('Training set score: ', grid_elasticnet_train_score)\n",
    "print('Test score: ', grid_elasticnet_test_score)\n",
    "\n",
    "#find best parameters\n",
    "print('Best parameters: ', grid_elasticnet.best_params_)\n",
    "print('Best cross-validation score:', grid_elasticnet.best_score_)\n",
    "X_train_preds = grid_elasticnet.predict(X_train)\n",
    "X_test_preds = grid_elasticnet.predict(X_test)\n",
    "\n",
    "print('train mse: {}'.format(mean_squared_error(y_train, X_train_preds)))\n",
    "print('train rmse: {}'.format(sqrt(mean_squared_error(y_train, X_train_preds))))\n",
    "print('train r2: {}'.format(r2_score(y_train, X_train_preds)))\n",
    "print()\n",
    "print('test mse: {}'.format(mean_squared_error(y_test, X_test_preds)))\n",
    "print('test rmse: {}'.format(sqrt(mean_squared_error(y_test, X_test_preds))))\n",
    "print('test r2: {}'.format(r2_score(y_test, X_test_preds)))"
   ]
  },
  {
   "cell_type": "markdown",
   "metadata": {},
   "source": [
    "# k NEIGHBORS REGRESSOR"
   ]
  },
  {
   "cell_type": "code",
   "execution_count": 26,
   "metadata": {
    "colab": {
     "base_uri": "https://localhost:8080/",
     "height": 87
    },
    "colab_type": "code",
    "id": "3xVmD00nRn9w",
    "outputId": "59be2439-b7ed-4243-da59-5bf5df9e8503"
   },
   "outputs": [
    {
     "name": "stdout",
     "output_type": "stream",
     "text": [
      "train score:  0.843268818865971\n",
      "test score:  0.7208736881444381\n",
      "Best parameters:  {'n_neighbors': 11}\n",
      "Best cross-validation score: 0.7988607307818896\n",
      "train mse: 978603144.818226\n",
      "train rmse: 31282.633278198082\n",
      "train r2: 0.843268818865971\n",
      "\n",
      "test mse: 1918188194.6087964\n",
      "test rmse: 43797.12541490362\n",
      "test r2: 0.7208736881444382\n"
     ]
    }
   ],
   "source": [
    "from sklearn.neighbors import KNeighborsRegressor\n",
    "knn_reg=KNeighborsRegressor()\n",
    "param_knn = {'n_neighbors': range(11,15)}\n",
    "grid_knn = GridSearchCV(knn_reg, param_knn, cv=5, return_train_score=True)\n",
    "grid_knn.fit(X_train, y_train)\n",
    "\n",
    "print('train score: ', grid_knn.score(X_train, y_train))\n",
    "print('test score: ', grid_knn.score(X_test, y_test))\n",
    "\n",
    "#find best parameters\n",
    "print('Best parameters: ', grid_knn.best_params_)\n",
    "print('Best cross-validation score:', grid_knn.best_score_)\n",
    "X_train_preds = grid_knn.predict(X_train)\n",
    "X_test_preds = grid_knn.predict(X_test)\n",
    "\n",
    "print('train mse: {}'.format(mean_squared_error(y_train, X_train_preds)))\n",
    "print('train rmse: {}'.format(sqrt(mean_squared_error(y_train, X_train_preds))))\n",
    "print('train r2: {}'.format(r2_score(y_train, X_train_preds)))\n",
    "print()\n",
    "print('test mse: {}'.format(mean_squared_error(y_test, X_test_preds)))\n",
    "print('test rmse: {}'.format(sqrt(mean_squared_error(y_test, X_test_preds))))\n",
    "print('test r2: {}'.format(r2_score(y_test, X_test_preds)))\n",
    "\n"
   ]
  },
  {
   "cell_type": "markdown",
   "metadata": {},
   "source": [
    "# POLYNOMIAL REGRESSION\n"
   ]
  },
  {
   "cell_type": "code",
   "execution_count": 27,
   "metadata": {
    "colab": {
     "base_uri": "https://localhost:8080/",
     "height": 143
    },
    "colab_type": "code",
    "id": "PVWhE9L4Rn-U",
    "outputId": "7f8a6eae-58a9-4a06-e59c-3918090a5182"
   },
   "outputs": [
    {
     "name": "stdout",
     "output_type": "stream",
     "text": [
      "train score:  0.9999955967458091\n",
      "test score:  -8894633656726822.0\n",
      "Best parameters:  {'polynomialfeatures__degree': 2}\n",
      "Best score: -1.1113645668914994e+16\n",
      "train mse: 27493.178878248375\n",
      "train rmse: 165.81067178637318\n",
      "train r2: 0.9999955967458091\n",
      "\n",
      "test mse: 6.112494792154257e+25\n",
      "test rmse: 7818244554984.358\n",
      "test r2: -8894633656726822.0\n"
     ]
    }
   ],
   "source": [
    "from sklearn.preprocessing import PolynomialFeatures\n",
    "pipe_poly=Pipeline([ \n",
    "    ('polynomialfeatures', PolynomialFeatures()),\n",
    "    ('norm_reg', LinearRegression()) \n",
    "])\n",
    "param_poly = {'polynomialfeatures__degree':[1,2]}\n",
    "\n",
    "grid_poly = GridSearchCV(pipe_poly, param_poly,cv=5, n_jobs=-1, return_train_score = True,scoring='r2')\n",
    "\n",
    "\n",
    "grid_poly.fit(X_train, y_train)\n",
    "\n",
    "# let's get the predictions\n",
    "X_train_preds = grid_poly.predict(X_train)\n",
    "X_test_preds = grid_poly.predict(X_test)\n",
    "\n",
    "# check model performance:\n",
    "\n",
    "print('train score: ', grid_poly.score(X_train, y_train))\n",
    "print('test score: ', grid_poly.score(X_test, y_test))\n",
    "\n",
    "#find best parameters\n",
    "print('Best parameters: ', grid_poly.best_params_)\n",
    "print('Best score:',grid_poly.best_score_)\n",
    "X_train_preds = grid_poly.predict(X_train)\n",
    "X_test_preds = grid_poly.predict(X_test)\n",
    "\n",
    "print('train mse: {}'.format(mean_squared_error(y_train, X_train_preds)))\n",
    "print('train rmse: {}'.format(sqrt(mean_squared_error(y_train, X_train_preds))))\n",
    "print('train r2: {}'.format(r2_score(y_train, X_train_preds)))\n",
    "print()\n",
    "print('test mse: {}'.format(mean_squared_error(y_test, X_test_preds)))\n",
    "print('test rmse: {}'.format(sqrt(mean_squared_error(y_test, X_test_preds))))\n",
    "print('test r2: {}'.format(r2_score(y_test, X_test_preds)))\n",
    "\n"
   ]
  },
  {
   "cell_type": "markdown",
   "metadata": {},
   "source": [
    "# DECISION TREE REGRESSOR"
   ]
  },
  {
   "cell_type": "code",
   "execution_count": 28,
   "metadata": {},
   "outputs": [
    {
     "name": "stdout",
     "output_type": "stream",
     "text": [
      "{'criterion': 'mse', 'max_depth': 5, 'splitter': 'best'}\n",
      "Accuracy on training set: 0.858\n",
      "Accuracy on test set: 0.800\n",
      "Best Score: 0.7615945500938354\n",
      "train mse: 888179862.3715401\n",
      "train rmse: 29802.346591695426\n",
      "train r2: 0.8577508363568482\n",
      "\n",
      "test mse: 1376206728.4540532\n",
      "test rmse: 37097.260390142736\n",
      "test r2: 0.799740448020779\n"
     ]
    }
   ],
   "source": [
    "from sklearn.tree import DecisionTreeRegressor\n",
    "pt_tree = DecisionTreeRegressor(random_state = 0)\n",
    "param_DT = {'max_depth': range(1,20),'criterion':['mse','friedman_mse','mae'],'splitter':['best']}\n",
    "\n",
    "grid_tree = GridSearchCV(pt_tree,param_DT,cv=5)\n",
    "grid_tree.fit(X_train,y_train)\n",
    "print(grid_tree.best_params_)\n",
    "print(\"Accuracy on training set: {:.3f}\".format(grid_tree.score(X_train, y_train)))\n",
    "print(\"Accuracy on test set: {:.3f}\".format(grid_tree.score(X_test, y_test)))\n",
    "print(\"Best Score:\",grid_tree.best_score_)\n",
    "X_train_preds = grid_tree.predict(X_train)\n",
    "X_test_preds = grid_tree.predict(X_test)\n",
    "\n",
    "print('train mse: {}'.format(mean_squared_error(y_train, X_train_preds)))\n",
    "print('train rmse: {}'.format(sqrt(mean_squared_error(y_train, X_train_preds))))\n",
    "print('train r2: {}'.format(r2_score(y_train, X_train_preds)))\n",
    "print()\n",
    "print('test mse: {}'.format(mean_squared_error(y_test, X_test_preds)))\n",
    "print('test rmse: {}'.format(sqrt(mean_squared_error(y_test, X_test_preds))))\n",
    "print('test r2: {}'.format(r2_score(y_test, X_test_preds)))"
   ]
  },
  {
   "cell_type": "markdown",
   "metadata": {},
   "source": [
    "# SUPPORT VECTOR MACHINES-REGRESSION"
   ]
  },
  {
   "cell_type": "code",
   "execution_count": 29,
   "metadata": {},
   "outputs": [
    {
     "name": "stdout",
     "output_type": "stream",
     "text": [
      "List of grids:\n",
      "[{'kernel': ['rbf'], 'C': [0.001, 0.01, 0.1, 1, 10, 100], 'gamma': [0.001, 0.01, 0.1, 1, 10, 100]}, {'kernel': ['sigmoid'], 'C': [0.001, 0.01, 0.1, 0.25, 0.5, 1, 10], 'gamma': [0.1, 1, 2, 5, 10, 100, 500]}, {'kernel': ['poly'], 'degree': [1, 2, 3], 'C': [0.001, 0.01, 0.1, 0.25, 0.5, 1, 10], 'gamma': [0.1, 1, 2, 5, 10, 100]}]\n"
     ]
    }
   ],
   "source": [
    "from sklearn.svm import SVR\n",
    "\n",
    "param_grid = [{'kernel': ['rbf'],\n",
    "               'C': [0.001, 0.01, 0.1, 1, 10, 100],\n",
    "               'gamma': [0.001, 0.01, 0.1, 1, 10, 100]},\n",
    "              {'kernel': ['sigmoid'],\n",
    "               'C':[0.001,0.01,0.1,0.25,0.5,1,10],\n",
    "               'gamma': [0.1,1,2,5,10,100,500]},\n",
    "              {'kernel':['poly'],\n",
    "               'degree':[1,2,3],\n",
    "               'C':[0.001,0.01,0.1,0.25,0.5,1,10],\n",
    "               'gamma':[0.1,1,2,5,10,100]}]\n",
    "print(\"List of grids:\\n{}\".format(param_grid))"
   ]
  },
  {
   "cell_type": "code",
   "execution_count": 30,
   "metadata": {},
   "outputs": [
    {
     "name": "stdout",
     "output_type": "stream",
     "text": [
      "train mse: 6560591874.536995\n",
      "train rmse: 80997.48066783926\n",
      "train r2: -0.050731666742694026\n",
      "\n",
      "test mse: 7148125836.73493\n",
      "test rmse: 84546.58974042023\n",
      "test r2: -0.04016384163712794\n"
     ]
    }
   ],
   "source": [
    "svr=SVR()\n",
    "svr.fit(X_train,y_train)\n",
    "X_train_preds=svr.predict(X_train)\n",
    "X_test_preds=svr.predict(X_test)\n",
    "print('train mse: {}'.format(mean_squared_error(y_train, X_train_preds)))\n",
    "print('train rmse: {}'.format(sqrt(mean_squared_error(y_train, X_train_preds))))\n",
    "print('train r2: {}'.format(r2_score(y_train, X_train_preds)))\n",
    "print()\n",
    "print('test mse: {}'.format(mean_squared_error(y_test, X_test_preds)))\n",
    "print('test rmse: {}'.format(sqrt(mean_squared_error(y_test, X_test_preds))))\n",
    "print('test r2: {}'.format(r2_score(y_test, X_test_preds)))"
   ]
  },
  {
   "cell_type": "code",
   "execution_count": 31,
   "metadata": {},
   "outputs": [
    {
     "name": "stdout",
     "output_type": "stream",
     "text": [
      "train score:  0.9016336525800952\n",
      "test score:  0.8702806425506886\n",
      "Best parameters: {'C': 10, 'degree': 1, 'gamma': 100, 'kernel': 'poly'}\n",
      "Best cross-validation score: 0.89\n",
      "train mse: 614182935.6028569\n",
      "train rmse: 24782.714451868604\n",
      "train r2: 0.9016336525800952\n",
      "\n",
      "test mse: 891446379.3018075\n",
      "test rmse: 29857.099311584298\n",
      "test r2: 0.8702806425506886\n"
     ]
    }
   ],
   "source": [
    "grid_search = GridSearchCV(SVR(), param_grid, cv=3,\n",
    "                          return_train_score=True)\n",
    "grid_search.fit(X_train, y_train)\n",
    "print('train score: ', grid_search.score(X_train, y_train))\n",
    "print('test score: ', grid_search.score(X_test, y_test))\n",
    "print(\"Best parameters: {}\".format(grid_search.best_params_))\n",
    "print(\"Best cross-validation score: {:.2f}\".format(grid_search.best_score_))\n",
    "X_train_preds = grid_search.predict(X_train)\n",
    "X_test_preds = grid_search.predict(X_test)\n",
    "\n",
    "print('train mse: {}'.format(mean_squared_error(y_train, X_train_preds)))\n",
    "print('train rmse: {}'.format(sqrt(mean_squared_error(y_train, X_train_preds))))\n",
    "print('train r2: {}'.format(r2_score(y_train, X_train_preds)))\n",
    "print()\n",
    "print('test mse: {}'.format(mean_squared_error(y_test, X_test_preds)))\n",
    "print('test rmse: {}'.format(sqrt(mean_squared_error(y_test, X_test_preds))))\n",
    "print('test r2: {}'.format(r2_score(y_test, X_test_preds)))"
   ]
  },
  {
   "cell_type": "markdown",
   "metadata": {
    "ExecuteTime": {
     "end_time": "2020-03-09T03:59:33.754940Z",
     "start_time": "2020-03-09T03:59:33.751933Z"
    },
    "colab_type": "text",
    "id": "QjrULI1DRn-o"
   },
   "source": [
    "## Tune Multiple Models with one GridSearch"
   ]
  },
  {
   "cell_type": "code",
   "execution_count": 32,
   "metadata": {
    "ExecuteTime": {
     "end_time": "2020-03-09T07:33:43.119468Z",
     "start_time": "2020-03-09T07:33:43.115457Z"
    },
    "colab": {},
    "colab_type": "code",
    "id": "_np53cX4Rn-t"
   },
   "outputs": [],
   "source": [
    "#model_gs = Pipeline([('Linear Regression',LinearRegression()),\n",
    "#                    ('SGD Regressor',SGDRegressor(max_iter=1000, tol = 1e-6)),\n",
    "#                    ('Ridge',Ridge()),\n",
    "#                   ('Lasso',Lasso()),\n",
    "#                    ('K Nearest neighbors',KneighborsRegressor()),\n",
    "#                    ('Polynomial Regression', POlynomialFeatures()),\n",
    "#                    ('Decision Tree Regressor',DecisionTreeRegressor()),\n",
    "#                    ('Support Vector Machine',SVR())])"
   ]
  },
  {
   "cell_type": "code",
   "execution_count": 33,
   "metadata": {
    "ExecuteTime": {
     "end_time": "2020-03-09T07:33:44.906746Z",
     "start_time": "2020-03-09T07:33:44.900729Z"
    },
    "colab": {},
    "colab_type": "code",
    "id": "g_W5YYiTRoAo"
   },
   "outputs": [],
   "source": [
    "#model_parm_gd = [\n",
    "#   { 'sgd_reg__eta0':np.linspace(0.0001,1,100), 'sgd_reg__penalty' :['l1','l2'],'sgd_reg__alpha' :[100,10,1,0.1,0.01,0.001]} ,\n",
    "    \n",
    "## {'regressor__ridge':np.linspace(0.001,1,100)},\n",
    "    \n",
    "#   {'regressor__alpha':np.linspace(100,100000,100)},\n",
    "#   {'regressor_elasticnet':{'alpha':[0.00001, 0.0001, 0.001, 0.01, 0.1, 1, 10,100], 'l1_ratio' :[0.2,0.4,0.6,0.8],'max_iter':[1,10,100,500]}},\n",
    "#    {'regressor_knn':{'n_neighbors': range(11,15)}},\n",
    "#    {'regressor_poly':{'polynomialfeatures__degree':range(1,3)}},\n",
    "#   {'regressor_decisiontree':{'max_depth': range(1,30),'criterion':['mse','friedman_mse','mae'],'splitter':['best']}},\n",
    "#    {'regressor_SVM':{'kernel': ['rbf'],\n",
    "#             'C': [0.001, 0.01, 0.1, 1, 10, 100],\n",
    "#            'gamma': [0.001, 0.01, 0.1, 1, 10, 100]},\n",
    "#          {'kernel': ['sigmoid'],\n",
    "#          'C':[0.001,0.01,0.1,0.25,0.5,1,10],\n",
    "#         'gamma': [0.1,1,2,5,10,100,500]},\n",
    "#       {'kernel':['poly'],\n",
    "#       'degree':[1,2,3],\n",
    "#      'C':[0.001,0.01,0.1,0.25,0.5,1,10],\n",
    "#     'gamma':[0.1,1,2,5,10,100]}}\n",
    " \n",
    "#]"
   ]
  },
  {
   "cell_type": "code",
   "execution_count": 34,
   "metadata": {
    "ExecuteTime": {
     "end_time": "2020-03-09T07:33:46.478370Z",
     "start_time": "2020-03-09T07:33:46.475362Z"
    },
    "colab": {},
    "colab_type": "code",
    "id": "hb6q3rFmRoA2"
   },
   "outputs": [],
   "source": [
    "#grid_search_house_pipe = GridSearchCV(model_gs, model_parm_gd)"
   ]
  },
  {
   "cell_type": "code",
   "execution_count": 35,
   "metadata": {
    "ExecuteTime": {
     "end_time": "2020-03-09T07:33:48.862449Z",
     "start_time": "2020-03-09T07:33:47.915915Z"
    },
    "colab": {
     "base_uri": "https://localhost:8080/",
     "height": 405
    },
    "colab_type": "code",
    "id": "FAMOq4ZTRoBB",
    "outputId": "80b14fe5-2196-445b-e2a6-ebc5ccbfa4b4"
   },
   "outputs": [],
   "source": [
    "#grid_search_house_pipe.fit(X_train,y_train)"
   ]
  },
  {
   "cell_type": "code",
   "execution_count": 36,
   "metadata": {
    "ExecuteTime": {
     "end_time": "2020-03-09T07:33:50.694053Z",
     "start_time": "2020-03-09T07:33:50.690545Z"
    },
    "colab": {
     "base_uri": "https://localhost:8080/",
     "height": 167
    },
    "colab_type": "code",
    "id": "eVrlTFeRRoBK",
    "outputId": "ac77879f-f6a6-4ab5-e1af-8e98bbf0f961"
   },
   "outputs": [],
   "source": [
    "#print(grid_search_house_pipe.best_params_)"
   ]
  },
  {
   "cell_type": "code",
   "execution_count": 37,
   "metadata": {
    "ExecuteTime": {
     "end_time": "2020-03-09T07:33:51.930133Z",
     "start_time": "2020-03-09T07:33:51.922105Z"
    },
    "colab": {},
    "colab_type": "code",
    "id": "tUZSVTjgRoBV"
   },
   "outputs": [],
   "source": [
    "# let's get the predictions\n",
    "#X_train_preds = grid_search_house_pipe.predict(X_train)\n",
    "#X_test_preds = grid_search_house_pipe.predict(X_test)"
   ]
  },
  {
   "cell_type": "code",
   "execution_count": 38,
   "metadata": {
    "ExecuteTime": {
     "end_time": "2020-03-09T07:33:54.122514Z",
     "start_time": "2020-03-09T07:33:54.118504Z"
    },
    "colab": {},
    "colab_type": "code",
    "id": "dyoUG7IfRoBc"
   },
   "outputs": [],
   "source": [
    "#print(\"Best Mean Cross-validation score: {}\".format(grid_search_house_pipe.best_score_))"
   ]
  },
  {
   "cell_type": "code",
   "execution_count": 39,
   "metadata": {
    "ExecuteTime": {
     "end_time": "2020-03-09T07:33:56.073138Z",
     "start_time": "2020-03-09T07:33:56.060105Z"
    },
    "colab": {},
    "colab_type": "code",
    "id": "tCAPnd10RoBp"
   },
   "outputs": [],
   "source": [
    "# check model performance:\n",
    "#from sklearn.metrics import mean_squared_error\n",
    "#from sklearn.metrics import r2_score\n",
    "\n",
    "#print('train mse: {}'.format(mean_squared_error(y_train, X_train_preds)))\n",
    "#print('train rmse: {}'.format(sqrt(mean_squared_error(y_train, X_train_preds))))\n",
    "#print('train r2: {}'.format(r2_score(y_train, X_train_preds)))\n",
    "#print()\n",
    "#print('test mse: {}'.format(mean_squared_error(y_test, X_test_preds)))\n",
    "#print('test rmse: {}'.format(sqrt(mean_squared_error(y_test, X_test_preds))))\n",
    "#print('test r2: {}'.format(r2_score(y_test, X_test_preds)))"
   ]
  },
  {
   "cell_type": "markdown",
   "metadata": {},
   "source": [
    "# Bagging with Decision Tree:"
   ]
  },
  {
   "cell_type": "code",
   "execution_count": 40,
   "metadata": {},
   "outputs": [],
   "source": [
    "from sklearn.ensemble import BaggingRegressor"
   ]
  },
  {
   "cell_type": "code",
   "execution_count": 41,
   "metadata": {
    "colab": {
     "base_uri": "https://localhost:8080/",
     "height": 72
    },
    "colab_type": "code",
    "id": "FhcL7xIjRoB7",
    "outputId": "3c6a2ab5-9e7c-4b1c-fff4-1c48ebaa9ab8"
   },
   "outputs": [
    {
     "name": "stdout",
     "output_type": "stream",
     "text": [
      "Best Mean Cross Validation Score is 0.8767328230456084\n",
      "train mse: 112489681.24936168\n",
      "train rmse: 10606.115276073595\n",
      "train r2: 0.9819838708868264\n",
      "\n",
      "test mse: 875341170.146963\n",
      "test rmse: 29586.165181499324\n",
      "test r2: 0.8726242017727133\n"
     ]
    }
   ],
   "source": [
    "bag_dtree1 = BaggingRegressor(base_estimator=DecisionTreeRegressor(), bootstrap=True, random_state=0, oob_score=True)\n",
    "\n",
    "bag_dtree1_param = {\n",
    "                 'base_estimator__max_depth': range(1,20),\n",
    "                 'base_estimator__criterion':['mse'],\n",
    "                 'base_estimator__splitter':['best'],\n",
    "                 #'max_samples':  [0.8,1],\n",
    "                 'n_estimators': [10,25,50,75,100]\n",
    "                }\n",
    "bag_dtree1_grid = GridSearchCV(bag_dtree1, bag_dtree1_param,cv=5, return_train_score=True, )\n",
    "bag_dtree1_grid.fit(X_train,y_train)\n",
    "X_train_preds = bag_dtree1_grid.predict(X_train)\n",
    "X_test_preds = bag_dtree1_grid.predict(X_test)\n",
    "print(f'Best Mean Cross Validation Score is {bag_dtree1_grid.best_score_}')\n",
    "\n",
    "print('train mse: {}'.format(mean_squared_error(y_train, X_train_preds)))\n",
    "print('train rmse: {}'.format(sqrt(mean_squared_error(y_train, X_train_preds))))\n",
    "print('train r2: {}'.format(r2_score(y_train, X_train_preds)))\n",
    "print()\n",
    "print('test mse: {}'.format(mean_squared_error(y_test, X_test_preds)))\n",
    "print('test rmse: {}'.format(sqrt(mean_squared_error(y_test, X_test_preds))))\n",
    "print('test r2: {}'.format(r2_score(y_test, X_test_preds)))"
   ]
  },
  {
   "cell_type": "markdown",
   "metadata": {},
   "source": [
    "# Bagging with lasso"
   ]
  },
  {
   "cell_type": "code",
   "execution_count": 42,
   "metadata": {
    "colab": {},
    "colab_type": "code",
    "id": "c368V-VdYljR"
   },
   "outputs": [
    {
     "name": "stdout",
     "output_type": "stream",
     "text": [
      "Best Mean Cross Validation Score is 0.8871946128761892\n",
      "train mse: 599465587.3235846\n",
      "train rmse: 24483.98634462094\n",
      "train r2: 0.9039907545280965\n",
      "\n",
      "test mse: 814194000.0304563\n",
      "test rmse: 28534.084881601797\n",
      "test r2: 0.8815220691055408\n"
     ]
    }
   ],
   "source": [
    "bag_Lasso = BaggingRegressor(base_estimator=Lasso(), bootstrap=True, random_state=0, oob_score=True)\n",
    "\n",
    "param_lasso = {'base_estimator__alpha':[1,10,100,1000],\n",
    "               'max_samples':  [0.8,1],\n",
    "                 'n_estimators': [10,25,100]}\n",
    "bag_lasso_grid = GridSearchCV(bag_Lasso,param_lasso,cv=5, return_train_score=True, )\n",
    "bag_lasso_grid.fit(X_train,y_train)\n",
    "X_train_lasso = bag_lasso_grid.predict(X_train)\n",
    "X_test_lasso = bag_lasso_grid.predict(X_test)\n",
    "\n",
    "print(f'Best Mean Cross Validation Score is {bag_lasso_grid.best_score_}')\n",
    "print('train mse: {}'.format(mean_squared_error(y_train, X_train_lasso)))\n",
    "print('train rmse: {}'.format(sqrt(mean_squared_error(y_train, X_train_lasso))))\n",
    "print('train r2: {}'.format(r2_score(y_train, X_train_lasso)))\n",
    "print()\n",
    "print('test mse: {}'.format(mean_squared_error(y_test, X_test_lasso)))\n",
    "print('test rmse: {}'.format(sqrt(mean_squared_error(y_test, X_test_lasso))))\n",
    "print('test r2: {}'.format(r2_score(y_test, X_test_lasso)))\n"
   ]
  },
  {
   "cell_type": "markdown",
   "metadata": {},
   "source": [
    "# Pasting with Decision Tree"
   ]
  },
  {
   "cell_type": "code",
   "execution_count": 43,
   "metadata": {
    "colab": {},
    "colab_type": "code",
    "id": "qz6QG4fnZ0Gy"
   },
   "outputs": [
    {
     "name": "stdout",
     "output_type": "stream",
     "text": [
      "Best Mean Cross Validation Score is 0.775646772225442\n",
      "train mse: 304051374.8453328\n",
      "train rmse: 17437.06898665406\n",
      "train r2: 0.9513037216799604\n",
      "\n",
      "test mse: 1181081171.277053\n",
      "test rmse: 34366.86152788836\n",
      "test r2: 0.8281342611391447\n"
     ]
    }
   ],
   "source": [
    "paste_dtree2 = BaggingRegressor(base_estimator=DecisionTreeRegressor(), bootstrap=False, random_state=0, oob_score=False)\n",
    "\n",
    "paste_dtree2_param = {\n",
    "                 'base_estimator__max_depth': range(1,20),\n",
    "                 'base_estimator__criterion':['mse','friedman_mse','mae'],\n",
    "                 'base_estimator__splitter':['best'],\n",
    "                # 'max_samples':  [0.8,1],\n",
    "                 'n_estimators': [10,25,100]}\n",
    "paste_dtree2_grid = GridSearchCV(paste_dtree2, paste_dtree2_param,cv=5, return_train_score=True, )\n",
    "paste_dtree2_grid.fit(X_train,y_train)\n",
    "X_train_tree = paste_dtree2_grid.predict(X_train)\n",
    "X_test_tree = paste_dtree2_grid.predict(X_test)\n",
    "print(f'Best Mean Cross Validation Score is {paste_dtree2_grid.best_score_}')\n",
    "\n",
    "print('train mse: {}'.format(mean_squared_error(y_train, X_train_tree)))\n",
    "print('train rmse: {}'.format(sqrt(mean_squared_error(y_train, X_train_tree))))\n",
    "print('train r2: {}'.format(r2_score(y_train, X_train_tree)))\n",
    "print()\n",
    "print('test mse: {}'.format(mean_squared_error(y_test, X_test_tree)))\n",
    "print('test rmse: {}'.format(sqrt(mean_squared_error(y_test, X_test_tree))))\n",
    "print('test r2: {}'.format(r2_score(y_test, X_test_tree)))"
   ]
  },
  {
   "cell_type": "markdown",
   "metadata": {},
   "source": [
    "# Pasting with Lasso"
   ]
  },
  {
   "cell_type": "code",
   "execution_count": 44,
   "metadata": {
    "colab": {},
    "colab_type": "code",
    "id": "sd_SbivFa9yB"
   },
   "outputs": [
    {
     "name": "stdout",
     "output_type": "stream",
     "text": [
      "Best Mean Cross Validation Score is 0.88515334918512\n",
      "train mse: 597848946.9262835\n",
      "train rmse: 24450.949816444423\n",
      "train r2: 0.9042496725177633\n",
      "\n",
      "test mse: 795373680.6998224\n",
      "test rmse: 28202.370125573176\n",
      "test r2: 0.884260719222077\n"
     ]
    }
   ],
   "source": [
    "bag_Lasso2 = BaggingRegressor(base_estimator=Lasso(), bootstrap=False, random_state=0, oob_score=False)\n",
    "\n",
    "param_lasso2 = {'base_estimator__alpha':np.linspace(100,100000,100),\n",
    "               'max_samples':  [0.8,1],\n",
    "                 'n_estimators': [10,25,100]}\n",
    "paste_lasso2_grid = GridSearchCV(bag_Lasso2,param_lasso2,cv=5, return_train_score=True, )\n",
    "paste_lasso2_grid.fit(X_train,y_train)\n",
    "X_train_lasso2 = paste_lasso2_grid.predict(X_train)\n",
    "X_test_lasso2 = paste_lasso2_grid.predict(X_test)\n",
    "print(f'Best Mean Cross Validation Score is {paste_lasso2_grid.best_score_}')\n",
    "\n",
    "print('train mse: {}'.format(mean_squared_error(y_train, X_train_lasso2)))\n",
    "print('train rmse: {}'.format(sqrt(mean_squared_error(y_train, X_train_lasso2))))\n",
    "print('train r2: {}'.format(r2_score(y_train, X_train_lasso2)))\n",
    "print()\n",
    "print('test mse: {}'.format(mean_squared_error(y_test, X_test_lasso2)))\n",
    "print('test rmse: {}'.format(sqrt(mean_squared_error(y_test, X_test_lasso2))))\n",
    "print('test r2: {}'.format(r2_score(y_test, X_test_lasso2)))\n"
   ]
  },
  {
   "cell_type": "markdown",
   "metadata": {},
   "source": [
    "# Random Forest"
   ]
  },
  {
   "cell_type": "code",
   "execution_count": 45,
   "metadata": {},
   "outputs": [
    {
     "name": "stdout",
     "output_type": "stream",
     "text": [
      "Best Mean Cross Validation Score is 0.8684018451123624\n",
      "train mse: 300882919.1206449\n",
      "train rmse: 17345.977029866175\n",
      "train r2: 0.9518111754018606\n",
      "\n",
      "test mse: 948246575.1996439\n",
      "test rmse: 30793.612571435067\n",
      "test r2: 0.8620153277926287\n"
     ]
    }
   ],
   "source": [
    "from sklearn.ensemble import RandomForestRegressor\n",
    "rfc =RandomForestRegressor(random_state=42)\n",
    "rfc_param = { \n",
    "    'n_estimators': [200, 500],\n",
    "    'max_features': ['auto', 'sqrt', 'log2'],\n",
    "    'max_depth' : [2,4,5,6,7,8],\n",
    "    #'criterion' :['gini', 'entropy']\n",
    "}\n",
    "\n",
    "rfc_grid = GridSearchCV(rfc, rfc_param,cv=5, return_train_score=True, )\n",
    "rfc_grid.fit(X_train,y_train)\n",
    "X_train_rfc = rfc_grid.predict(X_train)\n",
    "X_test_rfc = rfc_grid.predict(X_test)\n",
    "print(f'Best Mean Cross Validation Score is {rfc_grid.best_score_}')\n",
    "\n",
    "print('train mse: {}'.format(mean_squared_error(y_train, X_train_rfc)))\n",
    "print('train rmse: {}'.format(sqrt(mean_squared_error(y_train, X_train_rfc))))\n",
    "print('train r2: {}'.format(r2_score(y_train, X_train_rfc)))\n",
    "print()\n",
    "print('test mse: {}'.format(mean_squared_error(y_test, X_test_rfc)))\n",
    "print('test rmse: {}'.format(sqrt(mean_squared_error(y_test, X_test_rfc))))\n",
    "print('test r2: {}'.format(r2_score(y_test, X_test_rfc)))"
   ]
  },
  {
   "cell_type": "markdown",
   "metadata": {},
   "source": [
    "# AdaBoost Regressor"
   ]
  },
  {
   "cell_type": "code",
   "execution_count": 46,
   "metadata": {},
   "outputs": [
    {
     "name": "stdout",
     "output_type": "stream",
     "text": [
      "Best Mean Cross Validation Score is 0.8731237811314138\n",
      "train mse: 235379896.34787902\n",
      "train rmse: 15342.095565726313\n",
      "train r2: 0.9623020124499386\n",
      "\n",
      "test mse: 894488734.2279433\n",
      "test rmse: 29908.00451765285\n",
      "test r2: 0.8698379324389933\n"
     ]
    }
   ],
   "source": [
    "from sklearn.ensemble import AdaBoostRegressor\n",
    "adc_dtree =AdaBoostRegressor(base_estimator=DecisionTreeRegressor(),random_state=42)\n",
    "adc_dtree_param = {\n",
    "              'base_estimator__max_depth': range(1,20),\n",
    "              'base_estimator__criterion' : [\"mse\", \"mae\"],\n",
    "              'base_estimator__splitter' :   [\"best\", \"random\"],\n",
    "              'base_estimator__max_depth' : [2,4,6],\n",
    "              'n_estimators' : [100,150],\n",
    "              'learning_rate' : [0.5,1.0,2],\n",
    "             }\n",
    "adc_dtree_grid = GridSearchCV(adc_dtree, adc_dtree_param,cv=5, return_train_score=True, )\n",
    "adc_dtree_grid.fit(X_train,y_train)\n",
    "X_train_adc = adc_dtree_grid.predict(X_train)\n",
    "X_test_adc = adc_dtree_grid.predict(X_test)\n",
    "print(f'Best Mean Cross Validation Score is {adc_dtree_grid.best_score_}')\n",
    "\n",
    "print('train mse: {}'.format(mean_squared_error(y_train, X_train_adc)))\n",
    "print('train rmse: {}'.format(sqrt(mean_squared_error(y_train, X_train_adc))))\n",
    "print('train r2: {}'.format(r2_score(y_train, X_train_adc)))\n",
    "print()\n",
    "print('test mse: {}'.format(mean_squared_error(y_test, X_test_adc)))\n",
    "print('test rmse: {}'.format(sqrt(mean_squared_error(y_test, X_test_adc))))\n",
    "print('test r2: {}'.format(r2_score(y_test, X_test_adc)))"
   ]
  },
  {
   "cell_type": "markdown",
   "metadata": {},
   "source": [
    "# Gradient Boosting Regressor"
   ]
  },
  {
   "cell_type": "code",
   "execution_count": 47,
   "metadata": {},
   "outputs": [
    {
     "name": "stdout",
     "output_type": "stream",
     "text": [
      "Best Mean Cross Validation Score is 0.8693214037454589\n",
      "train mse: 96478319.6971917\n",
      "train rmse: 9822.337791849337\n",
      "train r2: 0.9845482194901631\n",
      "\n",
      "test mse: 800621519.0582533\n",
      "test rmse: 28295.256122860123\n",
      "test r2: 0.8834970768587678\n"
     ]
    }
   ],
   "source": [
    "from  sklearn.ensemble import GradientBoostingRegressor\n",
    "gbc= GradientBoostingRegressor(random_state=42)\n",
    "gbc_param = {\n",
    "              'max_depth' : [2,3,4],\n",
    "              'n_estimators' : [100,150],\n",
    "              'learning_rate' : [0.5,1.0,2],\n",
    "             }\n",
    "gbc_grid = GridSearchCV(gbc, gbc_param,cv=5, return_train_score=True, )\n",
    "gbc_grid.fit(X_train,y_train)\n",
    "X_train_gbc = gbc_grid.predict(X_train)\n",
    "X_test_gbc = gbc_grid.predict(X_test)\n",
    "print(f'Best Mean Cross Validation Score is {gbc_grid.best_score_}')\n",
    "print('train mse: {}'.format(mean_squared_error(y_train, X_train_gbc)))\n",
    "print('train rmse: {}'.format(sqrt(mean_squared_error(y_train, X_train_gbc))))\n",
    "print('train r2: {}'.format(r2_score(y_train, X_train_gbc)))\n",
    "print()\n",
    "print('test mse: {}'.format(mean_squared_error(y_test, X_test_gbc)))\n",
    "print('test rmse: {}'.format(sqrt(mean_squared_error(y_test, X_test_gbc))))\n",
    "print('test r2: {}'.format(r2_score(y_test, X_test_gbc)))"
   ]
  },
  {
   "cell_type": "markdown",
   "metadata": {},
   "source": [
    "# Extra-Trees Regressor:\n"
   ]
  },
  {
   "cell_type": "code",
   "execution_count": 48,
   "metadata": {},
   "outputs": [
    {
     "name": "stdout",
     "output_type": "stream",
     "text": [
      "Best Mean Cross Validation Score is 0.8670305610889916\n",
      "train mse: 170102255.64205065\n",
      "train rmse: 13042.325545777894\n",
      "train r2: 0.9727567527434288\n",
      "\n",
      "test mse: 994958957.0680267\n",
      "test rmse: 31542.970010257857\n",
      "test r2: 0.8552179473762773\n"
     ]
    }
   ],
   "source": [
    "from  sklearn.ensemble import ExtraTreesRegressor\n",
    "etc= ExtraTreesRegressor(random_state=42)\n",
    "etc_param = { \n",
    "    'n_estimators': [200, 500],\n",
    "    'max_features': ['auto', 'sqrt', 'log2'],\n",
    "    'max_depth' : [2,4,5,6,7,8],\n",
    "    'criterion' :['mse', 'mae']\n",
    "}\n",
    "etc_grid = GridSearchCV(etc, etc_param,cv=5, return_train_score=True, )\n",
    "etc_grid.fit(X_train,y_train)\n",
    "X_train_etc = etc_grid.predict(X_train)\n",
    "X_test_etc = etc_grid.predict(X_test)\n",
    "print(f'Best Mean Cross Validation Score is {etc_grid.best_score_}')\n",
    "print('train mse: {}'.format(mean_squared_error(y_train, X_train_etc)))\n",
    "print('train rmse: {}'.format(sqrt(mean_squared_error(y_train, X_train_etc))))\n",
    "print('train r2: {}'.format(r2_score(y_train, X_train_etc)))\n",
    "print()\n",
    "print('test mse: {}'.format(mean_squared_error(y_test, X_test_etc)))\n",
    "print('test rmse: {}'.format(sqrt(mean_squared_error(y_test, X_test_etc))))\n",
    "print('test r2: {}'.format(r2_score(y_test, X_test_etc)))"
   ]
  },
  {
   "cell_type": "markdown",
   "metadata": {},
   "source": [
    "# XGBoost Regressor"
   ]
  },
  {
   "cell_type": "code",
   "execution_count": 49,
   "metadata": {},
   "outputs": [
    {
     "name": "stdout",
     "output_type": "stream",
     "text": [
      "Requirement already satisfied: xgboost in c:\\users\\14695\\appdata\\local\\continuum\\anaconda3\\envs\\buan6341_2020\\lib\\site-packages (1.0.2)\n",
      "Requirement already satisfied: numpy in c:\\users\\14695\\appdata\\local\\continuum\\anaconda3\\envs\\buan6341_2020\\lib\\site-packages (from xgboost) (1.17.4)\n",
      "Requirement already satisfied: scipy in c:\\users\\14695\\appdata\\local\\continuum\\anaconda3\\envs\\buan6341_2020\\lib\\site-packages (from xgboost) (1.4.1)\n",
      "Note: you may need to restart the kernel to use updated packages.\n"
     ]
    }
   ],
   "source": [
    "pip install xgboost"
   ]
  },
  {
   "cell_type": "code",
   "execution_count": 77,
   "metadata": {},
   "outputs": [
    {
     "name": "stdout",
     "output_type": "stream",
     "text": [
      "Best Mean Cross Validation Score is 0.8981992683459357\n",
      "Best Mean Cross Validation parameters is {'learning_rate': 0.1, 'max_depth': 4, 'min_child_weight': 1, 'n_estimators': 150, 'subsample': 0.8}\n",
      "train mse: 128642421.8050286\n",
      "train rmse: 11342.06426560124\n",
      "train r2: 0.979396879296572\n",
      "\n",
      "test mse: 841113903.6952448\n",
      "test rmse: 29001.96379032366\n",
      "test r2: 0.8776048030903614\n"
     ]
    }
   ],
   "source": [
    "from  xgboost import XGBRegressor\n",
    "xgbc= XGBRegressor(random_state=42,objective= 'reg:squarederror')\n",
    "xgbc_param = {\n",
    "              'max_depth' : [2,4,6],\n",
    "              'n_estimators' : [50,100,150],\n",
    "              'learning_rate' : [0.1,0.5,0.6,0.8],\n",
    "               'min_child_weight' : [1,3,5,7],\n",
    "                'subsample':[0.6,0.7,0.8,0.9,1]\n",
    "             }\n",
    "xgbc_grid = GridSearchCV(xgbc, xgbc_param,cv=5, return_train_score=True, )\n",
    "xgbc_grid.fit(X_train,y_train)\n",
    "X_train_xgbc = xgbc_grid.predict(X_train)\n",
    "X_test_xgbc = xgbc_grid.predict(X_test)\n",
    "print(f'Best Mean Cross Validation Score is {xgbc_grid.best_score_}')\n",
    "print(f'Best Mean Cross Validation parameters is {xgbc_grid.best_params_}')\n",
    "print('train mse: {}'.format(mean_squared_error(y_train, X_train_xgbc)))\n",
    "print('train rmse: {}'.format(sqrt(mean_squared_error(y_train, X_train_xgbc))))\n",
    "print('train r2: {}'.format(r2_score(y_train, X_train_xgbc)))\n",
    "print()\n",
    "print('test mse: {}'.format(mean_squared_error(y_test, X_test_xgbc)))\n",
    "print('test rmse: {}'.format(sqrt(mean_squared_error(y_test, X_test_xgbc))))\n",
    "print('test r2: {}'.format(r2_score(y_test, X_test_xgbc)))"
   ]
  },
  {
   "cell_type": "code",
   "execution_count": 51,
   "metadata": {},
   "outputs": [],
   "source": [
    "regressor={#'Linear_Regression':lr ,\n",
    "             'SGD':grid_sgd,\n",
    "             'ridge':grid_ridge,\n",
    "             'lasso':grid_lasso,\n",
    "             'elasticnet':grid_elasticnet,\n",
    "             'knn':grid_knn,\n",
    "             'poly':grid_poly,\n",
    "             'dtree':grid_tree,\n",
    "             'SVM':grid_search,\n",
    "             'bag_dtree':bag_dtree1_grid,\n",
    "             'paste_dtree':paste_dtree2_grid,\n",
    "             'bag_lasso1':bag_lasso_grid,\n",
    "             'paste_lasso2': paste_lasso2_grid,\n",
    "             'rfc': rfc_grid,\n",
    "             'etc': etc_grid,\n",
    "             'adc_dtree':adc_dtree_grid,\n",
    "             'gbc': gbc_grid,\n",
    "             'xgbc': xgbc_grid}"
   ]
  },
  {
   "cell_type": "code",
   "execution_count": 52,
   "metadata": {},
   "outputs": [
    {
     "data": {
      "text/plain": [
       "dict_keys(['SGD', 'ridge', 'lasso', 'elasticnet', 'knn', 'poly', 'dtree', 'SVM', 'bag_dtree', 'paste_dtree', 'bag_lasso1', 'paste_lasso2', 'rfc', 'etc', 'adc_dtree', 'gbc', 'xgbc'])"
      ]
     },
     "execution_count": 52,
     "metadata": {},
     "output_type": "execute_result"
    }
   ],
   "source": [
    "regressor.keys()"
   ]
  },
  {
   "cell_type": "code",
   "execution_count": 53,
   "metadata": {},
   "outputs": [
    {
     "data": {
      "text/html": [
       "<div>\n",
       "<style scoped>\n",
       "    .dataframe tbody tr th:only-of-type {\n",
       "        vertical-align: middle;\n",
       "    }\n",
       "\n",
       "    .dataframe tbody tr th {\n",
       "        vertical-align: top;\n",
       "    }\n",
       "\n",
       "    .dataframe thead th {\n",
       "        text-align: right;\n",
       "    }\n",
       "</style>\n",
       "<table border=\"1\" class=\"dataframe\">\n",
       "  <thead>\n",
       "    <tr style=\"text-align: right;\">\n",
       "      <th></th>\n",
       "      <th>model</th>\n",
       "      <th>mean</th>\n",
       "      <th>std</th>\n",
       "    </tr>\n",
       "  </thead>\n",
       "  <tbody>\n",
       "    <tr>\n",
       "      <th>16</th>\n",
       "      <td>xgbc</td>\n",
       "      <td>8.981993e-01</td>\n",
       "      <td>9.513393e-03</td>\n",
       "    </tr>\n",
       "    <tr>\n",
       "      <th>7</th>\n",
       "      <td>SVM</td>\n",
       "      <td>8.883364e-01</td>\n",
       "      <td>8.717649e-03</td>\n",
       "    </tr>\n",
       "    <tr>\n",
       "      <th>10</th>\n",
       "      <td>bag_lasso1</td>\n",
       "      <td>8.871946e-01</td>\n",
       "      <td>8.323842e-03</td>\n",
       "    </tr>\n",
       "    <tr>\n",
       "      <th>2</th>\n",
       "      <td>lasso</td>\n",
       "      <td>8.858069e-01</td>\n",
       "      <td>2.615838e-02</td>\n",
       "    </tr>\n",
       "    <tr>\n",
       "      <th>1</th>\n",
       "      <td>ridge</td>\n",
       "      <td>8.852555e-01</td>\n",
       "      <td>2.820180e-02</td>\n",
       "    </tr>\n",
       "    <tr>\n",
       "      <th>11</th>\n",
       "      <td>paste_lasso2</td>\n",
       "      <td>8.851533e-01</td>\n",
       "      <td>6.050196e-03</td>\n",
       "    </tr>\n",
       "    <tr>\n",
       "      <th>3</th>\n",
       "      <td>elasticnet</td>\n",
       "      <td>8.840710e-01</td>\n",
       "      <td>1.038965e-02</td>\n",
       "    </tr>\n",
       "    <tr>\n",
       "      <th>8</th>\n",
       "      <td>bag_dtree</td>\n",
       "      <td>8.767328e-01</td>\n",
       "      <td>1.540055e-02</td>\n",
       "    </tr>\n",
       "    <tr>\n",
       "      <th>14</th>\n",
       "      <td>adc_dtree</td>\n",
       "      <td>8.731238e-01</td>\n",
       "      <td>1.341853e-02</td>\n",
       "    </tr>\n",
       "    <tr>\n",
       "      <th>15</th>\n",
       "      <td>gbc</td>\n",
       "      <td>8.693214e-01</td>\n",
       "      <td>1.946227e-02</td>\n",
       "    </tr>\n",
       "    <tr>\n",
       "      <th>12</th>\n",
       "      <td>rfc</td>\n",
       "      <td>8.684018e-01</td>\n",
       "      <td>1.644947e-02</td>\n",
       "    </tr>\n",
       "    <tr>\n",
       "      <th>13</th>\n",
       "      <td>etc</td>\n",
       "      <td>8.670306e-01</td>\n",
       "      <td>1.204579e-02</td>\n",
       "    </tr>\n",
       "    <tr>\n",
       "      <th>4</th>\n",
       "      <td>knn</td>\n",
       "      <td>7.988607e-01</td>\n",
       "      <td>9.892039e-03</td>\n",
       "    </tr>\n",
       "    <tr>\n",
       "      <th>9</th>\n",
       "      <td>paste_dtree</td>\n",
       "      <td>7.756468e-01</td>\n",
       "      <td>2.529485e-02</td>\n",
       "    </tr>\n",
       "    <tr>\n",
       "      <th>6</th>\n",
       "      <td>dtree</td>\n",
       "      <td>7.615946e-01</td>\n",
       "      <td>1.907630e-02</td>\n",
       "    </tr>\n",
       "    <tr>\n",
       "      <th>0</th>\n",
       "      <td>SGD</td>\n",
       "      <td>-7.389125e+08</td>\n",
       "      <td>1.161489e+08</td>\n",
       "    </tr>\n",
       "    <tr>\n",
       "      <th>5</th>\n",
       "      <td>poly</td>\n",
       "      <td>-1.111365e+16</td>\n",
       "      <td>1.567084e+16</td>\n",
       "    </tr>\n",
       "  </tbody>\n",
       "</table>\n",
       "</div>"
      ],
      "text/plain": [
       "           model          mean           std\n",
       "16          xgbc  8.981993e-01  9.513393e-03\n",
       "7            SVM  8.883364e-01  8.717649e-03\n",
       "10    bag_lasso1  8.871946e-01  8.323842e-03\n",
       "2          lasso  8.858069e-01  2.615838e-02\n",
       "1          ridge  8.852555e-01  2.820180e-02\n",
       "11  paste_lasso2  8.851533e-01  6.050196e-03\n",
       "3     elasticnet  8.840710e-01  1.038965e-02\n",
       "8      bag_dtree  8.767328e-01  1.540055e-02\n",
       "14     adc_dtree  8.731238e-01  1.341853e-02\n",
       "15           gbc  8.693214e-01  1.946227e-02\n",
       "12           rfc  8.684018e-01  1.644947e-02\n",
       "13           etc  8.670306e-01  1.204579e-02\n",
       "4            knn  7.988607e-01  9.892039e-03\n",
       "9    paste_dtree  7.756468e-01  2.529485e-02\n",
       "6          dtree  7.615946e-01  1.907630e-02\n",
       "0            SGD -7.389125e+08  1.161489e+08\n",
       "5           poly -1.111365e+16  1.567084e+16"
      ]
     },
     "execution_count": 53,
     "metadata": {},
     "output_type": "execute_result"
    }
   ],
   "source": [
    "results_mean_std = []\n",
    "for  key, value in regressor.items():\n",
    "    mean = value.cv_results_['mean_test_score'][value.best_index_]\n",
    "    std=value.cv_results_['std_test_score'][value.best_index_]\n",
    "     \n",
    "    results_mean_std.append({\n",
    "        \"model\": key,\n",
    "        \"mean\": mean,\n",
    "        \"std\": std\n",
    "    })\n",
    "\n",
    "\n",
    "accuracy_df = pd.DataFrame(results_mean_std, columns=['model', 'mean', 'std'])\n",
    "accuracy_df.sort_values(by=['mean'], inplace=True,ascending=False)\n",
    "accuracy_df"
   ]
  },
  {
   "cell_type": "code",
   "execution_count": 54,
   "metadata": {},
   "outputs": [],
   "source": [
    "predictions_all = {}\n",
    "for  key, value in regressor.items():\n",
    "    # Get best estimator\n",
    "    best_model = value.best_estimator_\n",
    "    \n",
    "    # Predict test labels\n",
    "    predictions = best_model.predict(X_test)\n",
    "    \n",
    "    # Save predictions to a list\n",
    "    predictions_all[key] = predictions"
   ]
  },
  {
   "cell_type": "code",
   "execution_count": 55,
   "metadata": {},
   "outputs": [],
   "source": [
    "pred = pd.DataFrame(predictions_all)"
   ]
  },
  {
   "cell_type": "code",
   "execution_count": 56,
   "metadata": {},
   "outputs": [
    {
     "data": {
      "text/plain": [
       "Text(0.5, 1, 'Correlation of the test set label prediction between models')"
      ]
     },
     "execution_count": 56,
     "metadata": {},
     "output_type": "execute_result"
    },
    {
     "data": {
      "image/png": "[encoded data removed]",
      "text/plain": [
       "<Figure size 648x432 with 2 Axes>"
      ]
     },
     "metadata": {
      "needs_background": "light"
     },
     "output_type": "display_data"
    }
   ],
   "source": [
    "fig, ax = plt.subplots(nrows=1, ncols=1, figsize=(9,6))\n",
    "g = sns.heatmap(pred.corr(), annot=True, cmap='coolwarm', ax=ax)\n",
    "g.set_title('Correlation of the test set label prediction between models')"
   ]
  },
  {
   "cell_type": "code",
   "execution_count": 57,
   "metadata": {},
   "outputs": [],
   "source": [
    "def get_redundant_pairs(df):\n",
    "    '''Get diagonal and lower triangular pairs of correlation matrix'''\n",
    "    pairs_to_drop = set()\n",
    "    cols = df.columns\n",
    "    for i in range(0, df.shape[1]):\n",
    "        for j in range(0, i+1):\n",
    "            pairs_to_drop.add((cols[i], cols[j]))\n",
    "    return pairs_to_drop\n",
    "\n",
    "def get_top_abs_correlations(df, n=5):\n",
    "    au_corr = df.corr().abs().unstack()\n",
    "    labels_to_drop = get_redundant_pairs(df)\n",
    "    au_corr = au_corr.drop(labels=labels_to_drop).sort_values(ascending=True)\n",
    "    return au_corr[0:n]\n",
    "\n",
    "def get_least_abs_correlations(df, n=5):\n",
    "    au_corr = df.corr().abs().unstack()\n",
    "    labels_to_drop = get_redundant_pairs(df)\n",
    "    au_corr = au_corr.drop(labels=labels_to_drop).sort_values(ascending=False)\n",
    "    return au_corr[0:n]\n",
    "\n"
   ]
  },
  {
   "cell_type": "code",
   "execution_count": 71,
   "metadata": {},
   "outputs": [
    {
     "name": "stdout",
     "output_type": "stream",
     "text": [
      "Least Absolute Correlations\n",
      "knn   poly         0.140340\n",
      "poly  dtree        0.240354\n",
      "      rfc          0.268573\n",
      "      bag_dtree    0.271500\n",
      "SGD   poly         0.276769\n",
      "dtype: float64\n"
     ]
    }
   ],
   "source": [
    "print(\"Least Absolute Correlations\")\n",
    "print(get_top_abs_correlations(pred, 5))"
   ]
  },
  {
   "cell_type": "code",
   "execution_count": 72,
   "metadata": {},
   "outputs": [
    {
     "name": "stdout",
     "output_type": "stream",
     "text": [
      "Top Absolute Correlations\n",
      "ridge       elasticnet      0.999998\n",
      "lasso       paste_lasso2    0.999885\n",
      "            bag_lasso1      0.999070\n",
      "SGD         ridge           0.999058\n",
      "bag_lasso1  paste_lasso2    0.999051\n",
      "dtype: float64\n"
     ]
    }
   ],
   "source": [
    "print(\"Top Absolute Correlations\")\n",
    "print(get_least_abs_correlations(pred, 5))"
   ]
  },
  {
   "cell_type": "markdown",
   "metadata": {},
   "source": [
    "# Voting Regressor- Top 5"
   ]
  },
  {
   "cell_type": "code",
   "execution_count": 76,
   "metadata": {},
   "outputs": [
    {
     "name": "stdout",
     "output_type": "stream",
     "text": [
      "Mean Cross-validation scores: 0.8958793818374555\n",
      "Train score is 0.9293909676914778\n",
      "Test score is 0.8861288078708559\n"
     ]
    }
   ],
   "source": [
    "from sklearn.ensemble import VotingRegressor\n",
    "vclf1 = VotingRegressor(estimators=\n",
    "                              [('xgb', xgbc_grid.best_estimator_), \n",
    "                               ('SVM', grid_search.best_estimator_), \n",
    "                               ('bag_lasso1', bag_lasso_grid.best_estimator_),\n",
    "                               ('lasso', grid_lasso.best_estimator_),\n",
    "                               ('paste_lasso', paste_lasso2_grid.best_estimator_)\n",
    "                              ], )\n",
    "# vclf1_param = {\n",
    "#               'n_regressors' : [50,100]\n",
    "#              }\n",
    "#vclf1_grid = GridSearchCV(vclf1, vclf1_param,cv=5, return_train_score=True, )\n",
    "vclf1.fit(X_train,y_train)\n",
    "cv_scores = cross_val_score(vclf1, X_train, y_train,)\n",
    "\n",
    "# Mean Cross validation Score\n",
    "print(\"Mean Cross-validation scores: {}\".format(np.mean(cv_scores)))\n",
    "X_train_pred = vclf1.predict(X_train)\n",
    "X_test_pred = vclf1.predict(X_test)\n",
    "# print(f'Best Mean Cross Validation Score is {vclf1_grid.best_score_}')\n",
    "# print(f'Best Mean Cross Validation Score is {vclf1_grid.best_params_}')\n",
    "print(f'Train score is {vclf1.score(X_train,y_train)}')\n",
    "print(f'Test score is {vclf1.score(X_test,y_test)}')\n",
    "#print(f'Val score is {vclf2_grid.score(X_val,y_val)}')\n"
   ]
  },
  {
   "cell_type": "markdown",
   "metadata": {},
   "source": [
    "# Voting Regressor- Least Correlated"
   ]
  },
  {
   "cell_type": "code",
   "execution_count": 75,
   "metadata": {},
   "outputs": [
    {
     "name": "stdout",
     "output_type": "stream",
     "text": [
      "Mean Cross-validation scores: 0.8519439054039191\n",
      "Train score is 0.9315015041975097\n",
      "Test score is 0.8447191782011241\n"
     ]
    }
   ],
   "source": [
    "vclf3 = VotingRegressor(estimators=\n",
    "                              [('dtree', grid_tree.best_estimator_), \n",
    "                               ('knn', grid_knn.best_estimator_), \n",
    "                               ('bag_dtree',bag_dtree1_grid.best_estimator_),\n",
    "                              ], )\n",
    "# vclf3_param = {\n",
    "#               'voting' : ['hard','soft'],\n",
    "#              }\n",
    "# vclf3_grid = GridSearchCV(vclf3, vclf3_param,cv=5, return_train_score=True, )\n",
    "vclf3.fit(X_train,y_train)\n",
    "cv_scores = cross_val_score(vclf3, X_train, y_train,)\n",
    "X_train_pred = vclf3.predict(X_train)\n",
    "X_test_pred = vclf3.predict(X_test)\n",
    "# Mean Cross validation Score\n",
    "print(\"Mean Cross-validation scores: {}\".format(np.mean(cv_scores)))\n",
    "# print(f'Best Mean Cross Validation Score is {vclf3_grid.best_score_}')\n",
    "# print(f'Best Mean Cross Validation Score is {vclf3_grid.best_params_}')\n",
    "print(f'Train score is {vclf3.score(X_train,y_train)}')\n",
    "print(f'Test score is {vclf3.score(X_test,y_test)}')\n",
    "#print(f'Val score is {vclf3_grid.score(X_val,y_val)}')"
   ]
  },
  {
   "cell_type": "markdown",
   "metadata": {},
   "source": [
    "Not including knn from the above voting regressor, better score is obtained"
   ]
  },
  {
   "cell_type": "code",
   "execution_count": 74,
   "metadata": {},
   "outputs": [
    {
     "name": "stdout",
     "output_type": "stream",
     "text": [
      "Mean Cross-validation scores: 0.8417063225576576\n",
      "Train score is 0.9413809818898891\n",
      "Test score is 0.8537603476722619\n"
     ]
    }
   ],
   "source": [
    "vclf3 = VotingRegressor(estimators=\n",
    "                              [('dtree', grid_tree.best_estimator_), \n",
    "                               #('knn', grid_knn.best_estimator_), \n",
    "                               ('bag_dtree',bag_dtree1_grid.best_estimator_),\n",
    "                              ], )\n",
    "# vclf3_param = {\n",
    "#               'voting' : ['hard','soft'],\n",
    "#              }\n",
    "\n",
    "\n",
    "\n",
    "#vclf3_grid = GridSearchCV(vclf3,cv=5, return_train_score=True, )\n",
    "vclf3.fit(X_train,y_train)\n",
    "cv_scores = cross_val_score(vclf3, X_train, y_train,)\n",
    "X_train_pred = vclf3.predict(X_train)\n",
    "X_test_pred = vclf3.predict(X_test)\n",
    "\n",
    "# Mean Cross validation Score\n",
    "print(\"Mean Cross-validation scores: {}\".format(np.mean(cv_scores)))\n",
    "# print(f'Best Mean Cross Validation Score is {vclf3_grid.best_score_}')\n",
    "# print(f'Best Mean Cross Validation Score is {vclf3_grid.best_params_}')\n",
    "print(f'Train score is {vclf3.score(X_train,y_train)}')\n",
    "print(f'Test score is {vclf3.score(X_test,y_test)}')\n",
    "#print(f'Val score is {vclf3_grid.score(X_val,y_val)}')"
   ]
  },
  {
   "cell_type": "markdown",
   "metadata": {},
   "source": [
    "# Stacking Regressor- top 5 models"
   ]
  },
  {
   "cell_type": "code",
   "execution_count": 70,
   "metadata": {},
   "outputs": [
    {
     "name": "stdout",
     "output_type": "stream",
     "text": [
      "Best Mean Cross Validation Score is 0.8964004562245474\n",
      "Best Mean Cross Validation Score is {'final_estimator__max_depth': 5, 'final_estimator__n_estimators': 500}\n",
      "Train score is 0.9475888706181629\n",
      "Test score is 0.9003161190546946\n"
     ]
    }
   ],
   "source": [
    "from sklearn.ensemble import StackingRegressor\n",
    "sclf1 = StackingRegressor(estimators=\n",
    "                              [('xgb', xgbc_grid.best_estimator_), \n",
    "                               ('SVM', grid_search.best_estimator_), \n",
    "                               ('bag_lasso1', bag_lasso_grid.best_estimator_),\n",
    "                               ('lasso', grid_lasso.best_estimator_),\n",
    "                               ('ridge', grid_ridge.best_estimator_)\n",
    "                              \n",
    "                             ], final_estimator=(ExtraTreesRegressor()))\n",
    "sclf1_param = {\n",
    "              'final_estimator__max_depth' : [2,4,5,6,7,8],\n",
    "               'final_estimator__n_estimators' : [200,500],\n",
    "               #'final_estimator__max_features': ['auto', 'sqrt', 'log2'],\n",
    "               #'final_estimator__criterion' :['gini', 'entropy'],\n",
    "              \n",
    "             }\n",
    "sclf1_grid = GridSearchCV(sclf1, sclf1_param,cv=5, return_train_score=True, )\n",
    "sclf1_grid.fit(X_train,y_train)\n",
    "X_train_pred = sclf1_grid.predict(X_train)\n",
    "X_test_pred = sclf1_grid.predict(X_test)\n",
    "print(f'Best Mean Cross Validation Score is {sclf1_grid.best_score_}')\n",
    "print(f'Best Mean Cross Validation Score is {sclf1_grid.best_params_}')\n",
    "print(f'Train score is {sclf1_grid.score(X_train,y_train)}')\n",
    "print(f'Test score is {sclf1_grid.score(X_test,y_test)}')\n",
    "#print(f'Val score is {sclf1_grid.score(X_val,y_val)}')"
   ]
  },
  {
   "cell_type": "markdown",
   "metadata": {},
   "source": [
    "On running the above model excluding lasso, better score is obtained"
   ]
  },
  {
   "cell_type": "code",
   "execution_count": 79,
   "metadata": {},
   "outputs": [
    {
     "name": "stdout",
     "output_type": "stream",
     "text": [
      "Best Mean Cross Validation Score is 0.8983606054800226\n",
      "Best Mean Cross Validation Score is {'final_estimator__max_depth': 5, 'final_estimator__n_estimators': 200}\n",
      "Train score is 0.9482688321199497\n",
      "Test score is 0.9026062606779912\n"
     ]
    }
   ],
   "source": [
    "from sklearn.ensemble import StackingRegressor\n",
    "sclf1 = StackingRegressor(estimators=\n",
    "                              [('xgb', xgbc_grid.best_estimator_), \n",
    "                               ('SVM', grid_search.best_estimator_), \n",
    "                               ('bag_lasso1', bag_lasso_grid.best_estimator_),\n",
    "                               #('lasso', grid_lasso.best_estimator_),\n",
    "                               ('ridge', grid_ridge.best_estimator_)\n",
    "                              \n",
    "                             ], final_estimator=(ExtraTreesRegressor()))\n",
    "sclf1_param = {\n",
    "              'final_estimator__max_depth' : [2,4,5,6,7,8],\n",
    "               'final_estimator__n_estimators' : [200,500],\n",
    "               #'final_estimator__max_features': ['auto', 'sqrt', 'log2'],\n",
    "               #'final_estimator__criterion' :['gini', 'entropy'],\n",
    "              \n",
    "             }\n",
    "sclf1_grid = GridSearchCV(sclf1, sclf1_param,cv=5, return_train_score=True, )\n",
    "sclf1_grid.fit(X_train,y_train)\n",
    "X_train_pred = sclf1_grid.predict(X_train)\n",
    "X_test_pred = sclf1_grid.predict(X_test)\n",
    "print(f'Best Mean Cross Validation Score is {sclf1_grid.best_score_}')\n",
    "print(f'Best Mean Cross Validation Score is {sclf1_grid.best_params_}')\n",
    "print(f'Train score is {sclf1_grid.score(X_train,y_train)}')\n",
    "print(f'Test score is {sclf1_grid.score(X_test,y_test)}')\n",
    "#print(f'Val score is {sclf1_grid.score(X_val,y_val)}')"
   ]
  },
  {
   "cell_type": "code",
   "execution_count": 82,
   "metadata": {},
   "outputs": [
    {
     "name": "stdout",
     "output_type": "stream",
     "text": [
      "train rmse: 17972.220648045088\n",
      "test rmse: 25870.852417706807\n"
     ]
    }
   ],
   "source": [
    "print('train rmse: {}'.format(sqrt(mean_squared_error(y_train, X_train_pred))))\n",
    "print('test rmse: {}'.format(sqrt(mean_squared_error(y_test, X_test_pred))))"
   ]
  },
  {
   "cell_type": "markdown",
   "metadata": {},
   "source": [
    "# Stacking Regressor-Least Correlated"
   ]
  },
  {
   "cell_type": "code",
   "execution_count": 68,
   "metadata": {},
   "outputs": [
    {
     "name": "stdout",
     "output_type": "stream",
     "text": [
      "Best Mean Cross Validation Score is 0.8727729389915277\n",
      "Best Mean Cross Validation Score is {'final_estimator__max_depth': 6, 'final_estimator__n_estimators': 50}\n",
      "Train score is 0.9715273030708889\n",
      "Test score is 0.8636930971422296\n"
     ]
    }
   ],
   "source": [
    "sclf2 = StackingRegressor(estimators=\n",
    "                              [('dtree', grid_tree.best_estimator_), \n",
    "                               ('knn', grid_knn.best_estimator_), \n",
    "                               ('xgb', xgbc_grid.best_estimator_),\n",
    "                                ('rfc', rfc_grid.best_estimator_),\n",
    "                              ('bag_dtree',bag_dtree1_grid.best_estimator_),\n",
    "                            ], final_estimator=(RandomForestRegressor()))\n",
    "                           \n",
    "sclf2_param = {\n",
    "              'final_estimator__max_depth' : [2,6],\n",
    "               'final_estimator__n_estimators' : [50,150],\n",
    "#               'final_estimator__learning_rate' : [0.1,0.6,0.8],\n",
    "#               'final_estimator__min_child_weight' : [1,3,7],\n",
    "#               'final_estimator__subsample':[0.6,0.9,1],\n",
    "#               'stack_method':['auto', 'predict_proba']\n",
    "              }\n",
    "# 'n_estimators': [200, 500],\n",
    "#     'max_features': ['auto', 'sqrt', 'log2'],\n",
    "#     'max_depth' : [2,4,5,6,7,8],\n",
    "sclf2_grid = GridSearchCV(sclf2, sclf2_param,cv=5, return_train_score=True, )\n",
    "sclf2_grid.fit(X_train,y_train)\n",
    "X_train_pred = sclf2_grid.predict(X_train)\n",
    "X_test_pred = sclf2_grid.predict(X_test)\n",
    "print(f'Best Mean Cross Validation Score is {sclf2_grid.best_score_}')\n",
    "print(f'Best Mean Cross Validation Score is {sclf2_grid.best_params_}')\n",
    "print(f'Train score is {sclf2_grid.score(X_train,y_train)}')\n",
    "print(f'Test score is {sclf2_grid.score(X_test,y_test)}')"
   ]
  },
  {
   "cell_type": "markdown",
   "metadata": {},
   "source": [
    "On running the above model excluding decision tree and XGboost Regressor, better score is obtained"
   ]
  },
  {
   "cell_type": "code",
   "execution_count": 67,
   "metadata": {},
   "outputs": [
    {
     "name": "stdout",
     "output_type": "stream",
     "text": [
      "Best Mean Cross Validation Score is 0.8583594564716817\n",
      "Best Mean Cross Validation Score is {'final_estimator__max_depth': 6, 'final_estimator__n_estimators': 150}\n",
      "Train score is 0.9631930574629979\n",
      "Test score is 0.8880819192395234\n"
     ]
    }
   ],
   "source": [
    "sclf2 = StackingRegressor(estimators=\n",
    "                              [#('dtree', grid_tree.best_estimator_), \n",
    "                               ('knn', grid_knn.best_estimator_), \n",
    "                               #('xgb', xgbc_grid.best_estimator_),\n",
    "                                ('rfc', rfc_grid.best_estimator_),\n",
    "                              ('bag_dtree',bag_dtree1_grid.best_estimator_),\n",
    "                            ], final_estimator=(RandomForestRegressor()))\n",
    "                           \n",
    "sclf2_param = {\n",
    "              'final_estimator__max_depth' : [2,6],\n",
    "               'final_estimator__n_estimators' : [50,150],\n",
    "#               'final_estimator__learning_rate' : [0.1,0.6,0.8],\n",
    "#               'final_estimator__min_child_weight' : [1,3,7],\n",
    "#               'final_estimator__subsample':[0.6,0.9,1],\n",
    "#               'stack_method':['auto', 'predict_proba']\n",
    "              }\n",
    "# 'n_estimators': [200, 500],\n",
    "#     'max_features': ['auto', 'sqrt', 'log2'],\n",
    "#     'max_depth' : [2,4,5,6,7,8],\n",
    "sclf2_grid = GridSearchCV(sclf2, sclf2_param,cv=5, return_train_score=True, )\n",
    "sclf2_grid.fit(X_train,y_train)\n",
    "X_train_pred = sclf2_grid.predict(X_train)\n",
    "X_test_pred = sclf2_grid.predict(X_test)\n",
    "print(f'Best Mean Cross Validation Score is {sclf2_grid.best_score_}')\n",
    "print(f'Best Mean Cross Validation Score is {sclf2_grid.best_params_}')\n",
    "print(f'Train score is {sclf2_grid.score(X_train,y_train)}')\n",
    "print(f'Test score is {sclf2_grid.score(X_test,y_test)}')\n",
    "#print(f'Val score is {sclf2_grid.score(X_val,y_val)}')"
   ]
  },
  {
   "cell_type": "code",
   "execution_count": null,
   "metadata": {},
   "outputs": [],
   "source": []
  }
 ],
 "metadata": {
  "colab": {
   "name": "Practice-HW2_Regression.ipynb",
   "provenance": []
  },
  "kernelspec": {
   "display_name": "Python 3",
   "language": "python",
   "name": "python3"
  },
  "language_info": {
   "codemirror_mode": {
    "name": "ipython",
    "version": 3
   },
   "file_extension": ".py",
   "mimetype": "text/x-python",
   "name": "python",
   "nbconvert_exporter": "python",
   "pygments_lexer": "ipython3",
   "version": "3.7.6"
  },
  "toc": {
   "base_numbering": 1,
   "nav_menu": {},
   "number_sections": true,
   "sideBar": false,
   "skip_h1_title": false,
   "title_cell": "Table of Contents",
   "title_sidebar": "Contents",
   "toc_cell": false,
   "toc_position": {
    "height": "583px",
    "left": "0px",
    "right": "1324px",
    "top": "107px",
    "width": "211.997px"
   },
   "toc_section_display": false,
   "toc_window_display": true
  },
  "varInspector": {
   "cols": {
    "lenName": 16,
    "lenType": 16,
    "lenVar": 40
   },
   "kernels_config": {
    "python": {
     "delete_cmd_postfix": "",
     "delete_cmd_prefix": "del ",
     "library": "var_list.py",
     "varRefreshCmd": "print(var_dic_list())"
    },
    "r": {
     "delete_cmd_postfix": ") ",
     "delete_cmd_prefix": "rm(",
     "library": "var_list.r",
     "varRefreshCmd": "cat(var_dic_list()) "
    }
   },
   "types_to_exclude": [
    "module",
    "function",
    "builtin_function_or_method",
    "instance",
    "_Feature"
   ],
   "window_display": false
  }
 },
 "nbformat": 4,
 "nbformat_minor": 1
}
